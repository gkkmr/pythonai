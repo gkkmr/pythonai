{
 "cells": [
  {
   "cell_type": "markdown",
   "metadata": {},
   "source": [
    "# PYTHON OOP: Design of the Reservation Management System (RMS) for a Resort - Training"
   ]
  },
  {
   "cell_type": "markdown",
   "metadata": {},
   "source": [
    "# Reservation Management System (RMS) for <br> Blue Lagoon Resort , Miami, Florida"
   ]
  },
  {
   "cell_type": "markdown",
   "metadata": {},
   "source": [
    "To make this a fun learning experience, let us design the classes for the RMS of a boutique resort that rents villas in Miami, Florida. "
   ]
  },
  {
   "cell_type": "markdown",
   "metadata": {},
   "source": [
    "Different Types of Entities a Resort business will have"
   ]
  },
  {
   "cell_type": "markdown",
   "metadata": {},
   "source": [
    "\n",
    "1#villa <br><br> 2#guest<br><br> 3#reservation<br><br> 4#resort<br><br>"
   ]
  },
  {
   "cell_type": "markdown",
   "metadata": {},
   "source": [
    "# Types of Villas"
   ]
  },
  {
   "cell_type": "markdown",
   "metadata": {},
   "source": [
    "The resort rents four standard villas and two VIP villas. VIP villas are larger and come with a personal yacht. All villas come with a personal assistant. \n",
    "<br> \n",
    "THE VILLA TYPES ARE :\n",
    "\n",
    "#villa (Standard Villas)\n",
    "\n",
    "#vipvilla (VIP Villas)"
   ]
  },
  {
   "cell_type": "markdown",
   "metadata": {},
   "source": [
    "So now We will model the RMS system with the following classes:<br><br> 1#stdVilla<br><br> 2#vipvilla<br><br> 3#guest<br><br> 4#reservation <br><br>5#resort"
   ]
  },
  {
   "cell_type": "markdown",
   "metadata": {},
   "source": [
    "# Designing Classes and Data Enscapsulation"
   ]
  },
  {
   "cell_type": "markdown",
   "metadata": {},
   "source": [
    "Classes must protect the most critical asset, our data. On the other hand, they must promote transparency and synergy by exposing certain data to the outside world using get/set access functions. This OOP concept will permeate the design of all of the classes in our example, and each one of them will be designed such that it contains the data and only the data that is relevant to the class characteristics in the real world.\n",
    "\n"
   ]
  },
  {
   "cell_type": "markdown",
   "metadata": {},
   "source": [
    "# Designing the Villa Class"
   ]
  },
  {
   "cell_type": "markdown",
   "metadata": {},
   "source": [
    "\n",
    "Standard Villa: One of the least privileged class is villa, in the sense that it encapsulates the least data (the name of the villa and the name of the villa’s personal assistant). <br><br>It also offers informative functions about the hours that the personal assistant will be on call<br><br> and the dates that the villa will be cleaned and keys will be changed. <br><br>Also, it has a function to print the label of the gift that is left in the room of each new guest:\n",
    "\n",
    "<br><br>\n",
    "VipVIlla:<br><br>\n",
    "offers all the features of a Standar Villa plust it offers additional facilites like:\n",
    "<br><br>1)longer hours of a Personal assistant\n",
    "<br><br>2)personal yatch\n"
   ]
  },
  {
   "cell_type": "code",
   "execution_count": 1,
   "metadata": {},
   "outputs": [],
   "source": [
    "import datetime\n",
    "from datetime import date"
   ]
  },
  {
   "cell_type": "markdown",
   "metadata": {},
   "source": [
    "# 1.Class Villa"
   ]
  },
  {
   "cell_type": "markdown",
   "metadata": {},
   "source": [
    "\n",
    "\n",
    "Class villa encapsulates the following rented villa characteristics:\n",
    "<br><br>\n",
    "Property/Attributes:<br>\n",
    "name of villa,<br> name of personal assistant. \n",
    "<br><br>\n",
    "Functions/Behaviours:<br>\n",
    "It also offers functions that inform about the hours that the personal assistant will be on call and the dates that the villa will be cleaned and keys will be changed.<br> In addition, it has a function to print the label of the gift that is left in the room of each new guest. "
   ]
  },
  {
   "cell_type": "code",
   "execution_count": 2,
   "metadata": {},
   "outputs": [],
   "source": [
    "\n",
    "#class stdVilla(object):\n",
    "class stdVilla():\n",
    "#in Python 3.2 object need not be passed\n",
    "#class stdVilla():\n",
    "    def __init__(self,n,id):\n",
    "        self.villaName=n\n",
    "        self.resid=id\n",
    "        \n",
    "    def setPersonalAssistant(self,pa):\n",
    "        self.personalAssistant=pa\n",
    "     \n",
    "        #print(f\"Your Resort PA {pa} will be on call from 8.00am to 8.00pm for Standard villa {self.villaName}\")\n",
    "        print(f\"Your Resort PA {self.personalAssistant} will be on call from 8.00am to 8.00pm for Standard villa {self.villaName}\")\n",
    "    def cleanAndChangeKey(self,d1,d2):\n",
    "        print(f\"Your Villa {self.villaName} will be cleaned and keys will be changed on {d1} and {d2}\")\n",
    "    def printGiftLabel(self,s):\n",
    "        print(f\"***********************\")\n",
    "        print(f\"Welcome at the {self.villaName} villa, {s} party!\")\n",
    "        print(f\"***********************\")\n",
    "        "
   ]
  },
  {
   "cell_type": "code",
   "execution_count": null,
   "metadata": {},
   "outputs": [],
   "source": []
  },
  {
   "cell_type": "markdown",
   "metadata": {},
   "source": [
    "# Inheritance and Polymorphism"
   ]
  },
  {
   "cell_type": "markdown",
   "metadata": {},
   "source": [
    "# 2.VipVilla"
   ]
  },
  {
   "cell_type": "markdown",
   "metadata": {},
   "source": [
    "Class vipVilla inherits from class villa. \n",
    "<br>\n",
    "It encapsulates the name of the VIP personal assistant \n",
    "<br>\n",
    "and offers an access function to it."
   ]
  },
  {
   "cell_type": "code",
   "execution_count": 3,
   "metadata": {},
   "outputs": [],
   "source": [
    "#Example Inheritance\n",
    "class vipVilla(stdVilla):\n",
    "#class vipVilla():\n",
    "    def __init__(self,nn,id):\n",
    "        #self.villaName=n\n",
    "        #self.resid=id\n",
    "        \n",
    "        #stdVilla.__init__(self,nn,id)\n",
    "        super().__init__(nn,id)\n",
    "        \n",
    "    def setPersonalAssistant(self,pa):\n",
    "        self.vipPersAssist=pa\n",
    "        #print(f) it is for formating dynamic objects\n",
    "        print(f\"Your Resort PA {pa} will be on call (7.00am-9.00pm) for  VIP villa {self.villaName} and arrange for a personal yacht\")"
   ]
  },
  {
   "cell_type": "code",
   "execution_count": null,
   "metadata": {},
   "outputs": [],
   "source": []
  },
  {
   "cell_type": "markdown",
   "metadata": {},
   "source": [
    "# 3 Class Guest"
   ]
  },
  {
   "cell_type": "markdown",
   "metadata": {},
   "source": []
  },
  {
   "cell_type": "code",
   "execution_count": 4,
   "metadata": {},
   "outputs": [],
   "source": [
    "#class guest(object):\n",
    "#this way of writting class(object) was used in the class in python2.7    \n",
    "class guest():\n",
    "#this way of writting class() is used  python3\n",
    "    def __init__(self,f1,l1,b,c):\n",
    "       self.first=f1\n",
    "       self.last=l1\n",
    "       self.noofAdults=b\n",
    "       self.noofChildren=c\n",
    "    def getLastName(self):\n",
    "        return self.last\n",
    "    \n",
    "    #__repr__  \n",
    "    #The __repr__ method simply tells Python how to print objects of a class\n",
    "    #__reprt__ is similar __string__, repr prints more information about the object class\n",
    "    def __repr__(self):\n",
    "      # return 'Guest: (%s, %s)' % (self.first, self.last)\n",
    "     return 'Guest: (%s, %s)' % (self.first, self.last)\n",
    "\n",
    "#__string__("
   ]
  },
  {
   "cell_type": "code",
   "execution_count": 5,
   "metadata": {},
   "outputs": [],
   "source": [
    "#help(__string__)"
   ]
  },
  {
   "cell_type": "code",
   "execution_count": 6,
   "metadata": {},
   "outputs": [
    {
     "data": {
      "text/plain": [
       "<function __main__.guest.getLastName(self)>"
      ]
     },
     "execution_count": 6,
     "metadata": {},
     "output_type": "execute_result"
    }
   ],
   "source": [
    "guest.getLastName"
   ]
  },
  {
   "cell_type": "markdown",
   "metadata": {},
   "source": [
    "# 4 Class Reservation"
   ]
  },
  {
   "cell_type": "code",
   "execution_count": 7,
   "metadata": {},
   "outputs": [],
   "source": [
    "class reservation(object):\n",
    "    def __init__(self,n,de,le):\n",
    "        self.checkinDate=de\n",
    "        self.lengthofStay=le\n",
    "        self.resVillaName=n\n",
    "        self.checkoutDate=de+datetime.timedelta(days=le)\n",
    "    def getResVillaName(self):\n",
    "             return self.resVillaName\n",
    "    def getResCheckinDate(self):\n",
    "            return self.checkinDate\n",
    "    def getResCheckoutDate(self):\n",
    "            return self.checkoutDate\n",
    "    def setReservID(self,id):\n",
    "        self.reservID=id\n",
    "        \n",
    "    def __repr__(self):\n",
    "        return 'Reservation: (%s, %s, %s, %s)' % (self.checkinDate, self.lengthofStay, self.resVillaName,self.reservID)"
   ]
  },
  {
   "cell_type": "code",
   "execution_count": null,
   "metadata": {},
   "outputs": [],
   "source": []
  },
  {
   "cell_type": "markdown",
   "metadata": {},
   "source": [
    "# Object Associations"
   ]
  },
  {
   "cell_type": "markdown",
   "metadata": {},
   "source": [
    "An association is a “using” relationship between two or more objects in which the objects have their own lifetime and there is no owner. ... The objects that are part of the association relationship can be created and destroyed independently."
   ]
  },
  {
   "cell_type": "markdown",
   "metadata": {},
   "source": [
    "# 5 Class Resort"
   ]
  },
  {
   "cell_type": "markdown",
   "metadata": {},
   "source": [
    "Resort will be using villa, vipVilla, Guest, Reservation objects<br>\n",
    "<br><br>\n",
    "Class resort encapsulates the following attributes: <br> a list with the names of the (standard) villas,<br> a list with the names of the VIP villas,<br> a guest list,<br> a reservation list<br>and a reservation ID list.<br><br> \n"
   ]
  },
  {
   "cell_type": "code",
   "execution_count": null,
   "metadata": {},
   "outputs": [],
   "source": []
  },
  {
   "cell_type": "code",
   "execution_count": 8,
   "metadata": {},
   "outputs": [],
   "source": [
    "class resort(object):\n",
    "      #[list] \n",
    "      #Names for the Std and Vip villa\n",
    "      stdVilList=['ElektraStd','PersephoneStd','ArtemisStd','KourosStd']\n",
    "      vipVilList=['ZeusVip','AlexandrianVip']\n",
    "      guestList=[]\n",
    "      reservationList=[]\n",
    "      #resIDList=[]\n",
    "      resIDList=[0]\n",
    "      def __init__(self):\n",
    "          print(\"Welcome to Blue Lagoon Resort!\")\n",
    "      def setGuest(self,g):\n",
    "          self.guestList.append(g)\n",
    "      def setReservation(self,r):\n",
    "          self.reservationList.append(r)\n",
    "     \n",
    "      def getresID(self):\n",
    "          return self.resIDList[-1]\n",
    "        \n",
    "    \n",
    "      def updateResIDList(self):\n",
    "         i=self.getresID()+1\n",
    "         self.resIDList.append(i)\n",
    "         return(self.resIDList[-1])\n",
    "    \n",
    "      def printLists(self):\n",
    "        print(f\"******print Guest List*****************\")\n",
    "        print(f\" The guest list is: {self.guestList}\")\n",
    "        print(f\"******print Reservation List*****************\")\n",
    "        print(f\" The reservation list is: {self.reservationList}\")\n",
    "        print(f\" The resID list is: {self.resIDList[1:]}\")\n",
    "        print(f\"***********************\")"
   ]
  },
  {
   "cell_type": "code",
   "execution_count": null,
   "metadata": {},
   "outputs": [],
   "source": []
  },
  {
   "cell_type": "markdown",
   "metadata": {},
   "source": [
    "# Implementation"
   ]
  },
  {
   "cell_type": "markdown",
   "metadata": {},
   "source": [
    "# Now making the Class, Objects and Business Rules work"
   ]
  },
  {
   "cell_type": "code",
   "execution_count": null,
   "metadata": {},
   "outputs": [],
   "source": []
  },
  {
   "cell_type": "code",
   "execution_count": null,
   "metadata": {},
   "outputs": [],
   "source": []
  },
  {
   "cell_type": "code",
   "execution_count": 9,
   "metadata": {},
   "outputs": [
    {
     "name": "stdout",
     "output_type": "stream",
     "text": [
      "Welcome to Blue Lagoon Resort!\n",
      "***********************\n",
      "Welcome at the ZeusVip villa, Mitchell party!\n",
      "***********************\n",
      "Your Resort PA Eleni will be on call (7.00am-9.00pm) for  VIP villa ZeusVip and arrange for a personal yacht\n",
      "Your Villa ZeusVip will be cleaned and keys will be changed on 2019-06-03 and 2019-06-08\n",
      "Reservation Id for Guest: 1\n"
     ]
    }
   ],
   "source": [
    "objResort=resort()\n",
    "#Guest 1\n",
    "saguest=guest('Albert','Mitchell',2,1)\n",
    "#saguest=guest()\n",
    "objResort.setGuest(saguest)\n",
    "objReservation=reservation('ZeusVip',date(2019,6,3),5)\n",
    "\n",
    "objResort.setReservation(objReservation)\n",
    "newid=objResort.updateResIDList()\n",
    "objReservation.setReservID(newid)\n",
    "\n",
    "#At the time of creating Villa object we check if it is a vipvilla or std villa\n",
    "#because we have to create objects either Std or VIP.\n",
    "\n",
    "if objReservation.getResVillaName() == 'ZeusVip' or objReservation.getResVillaName()=='AlexandrianVip':\n",
    "    villarese=vipVilla(objReservation.getResVillaName(),newid)\n",
    "else:\n",
    "    villarese=stdVilla(objReservation.getResVillaName(),newid)\n",
    "    \n",
    "villarese.printGiftLabel(saguest.getLastName())\n",
    "villarese.setPersonalAssistant('Eleni')\n",
    "villarese.cleanAndChangeKey(objReservation.getResCheckinDate(),objReservation.getResCheckoutDate())\n",
    "#print villa reservation id\n",
    "print(\"Reservation Id for Guest:\" ,villarese.resid)\n",
    "\n",
    "#Guest 2\n",
    "\n"
   ]
  },
  {
   "cell_type": "code",
   "execution_count": 10,
   "metadata": {},
   "outputs": [
    {
     "name": "stdout",
     "output_type": "stream",
     "text": [
      "***********************\n",
      "Welcome at the ArtemisStd villa, Marchese party!\n",
      "***********************\n",
      "Your Resort PA Dorian will be on call from 8.00am to 8.00pm for Standard villa ArtemisStd\n",
      "Your Villa ArtemisStd will be cleaned and keys will be changed on 2019-07-03 and 2019-07-11\n",
      "Reservation Id for Guest: 2\n"
     ]
    }
   ],
   "source": [
    "saguest2=guest('Simon','Marchese',2,1)\n",
    "objResort.setGuest(saguest2)\n",
    "objReservation2=reservation('ArtemisStd',date(2019,7,3),8)\n",
    "objResort.setReservation(objReservation2)\n",
    "newid2=objResort.updateResIDList()\n",
    "objReservation2.setReservID(newid2)\n",
    "#print villa reservation id\n",
    "\n",
    "\n",
    "if objReservation2.getResVillaName() == 'ZeusVip' or objReservation2.getResVillaName()=='AlexandrianVip':\n",
    "    villarese2=vipVilla(objReservation2.getResVillaName(),newid2)\n",
    "else:\n",
    "    villarese2=stdVilla(objReservation2.getResVillaName(),newid2)\n",
    "villarese2.printGiftLabel(saguest2.getLastName())\n",
    "villarese2.setPersonalAssistant('Dorian')\n",
    "villarese2.cleanAndChangeKey(objReservation2.getResCheckinDate(),objReservation2.getResCheckoutDate())\n",
    "print(\"Reservation Id for Guest:\" ,villarese2.resid)\n",
    "\n",
    "\n",
    "\n"
   ]
  },
  {
   "cell_type": "code",
   "execution_count": 12,
   "metadata": {},
   "outputs": [
    {
     "name": "stdout",
     "output_type": "stream",
     "text": [
      "***********************\n",
      "Welcome at the ElektraStd villa, Marchese1 party!\n",
      "***********************\n",
      "Your Resort PA Dorian will be on call from 8.00am to 8.00pm for Standard villa ElektraStd\n",
      "Your Villa ElektraStd will be cleaned and keys will be changed on 2019-07-03 and 2019-07-11\n",
      "Reservation Id for Guest: 3\n"
     ]
    }
   ],
   "source": [
    "saguest3=guest('Simon1','Marchese1',2,1)\n",
    "objResort.setGuest(saguest3)\n",
    "objReservation3=reservation('ElektraStd',date(2019,7,3),8)\n",
    "objResort.setReservation(objReservation3)\n",
    "newid3=objResort.updateResIDList()\n",
    "objReservation3.setReservID(newid3)\n",
    "#print villa reservation id\n",
    "\n",
    "\n",
    "if objReservation3.getResVillaName() == 'ZeusVip' or objReservation3.getResVillaName()=='AlexandrianVip':\n",
    "    villarese3=vipVilla(objReservation3.getResVillaName(),newid3)\n",
    "else:\n",
    "    villarese3=stdVilla(objReservation3.getResVillaName(),newid3)\n",
    "villarese3.printGiftLabel(saguest3.getLastName())\n",
    "villarese3.setPersonalAssistant('Dorian')\n",
    "villarese3.cleanAndChangeKey(objReservation3.getResCheckinDate(),objReservation3.getResCheckoutDate())\n",
    "print(\"Reservation Id for Guest:\" ,villarese3.resid)"
   ]
  },
  {
   "cell_type": "code",
   "execution_count": 13,
   "metadata": {},
   "outputs": [
    {
     "name": "stdout",
     "output_type": "stream",
     "text": [
      "******print Guest List*****************\n",
      " The guest list is: [Guest: (Albert, Mitchell), Guest: (Simon, Marchese), Guest: (Simon1, Marchese1)]\n",
      "******print Reservation List*****************\n",
      " The reservation list is: [Reservation: (2019-06-03, 5, ZeusVip, 1), Reservation: (2019-07-03, 8, ArtemisStd, 2), Reservation: (2019-07-03, 8, ElektraStd, 3)]\n",
      " The resID list is: [1, 2, 3]\n",
      "***********************\n"
     ]
    }
   ],
   "source": [
    "objResort.printLists()"
   ]
  },
  {
   "cell_type": "code",
   "execution_count": null,
   "metadata": {},
   "outputs": [],
   "source": []
  }
 ],
 "metadata": {
  "kernelspec": {
   "display_name": "Python 3",
   "language": "python",
   "name": "python3"
  },
  "language_info": {
   "codemirror_mode": {
    "name": "ipython",
    "version": 3
   },
   "file_extension": ".py",
   "mimetype": "text/x-python",
   "name": "python",
   "nbconvert_exporter": "python",
   "pygments_lexer": "ipython3",
   "version": "3.8.5"
  }
 },
 "nbformat": 4,
 "nbformat_minor": 2
}
