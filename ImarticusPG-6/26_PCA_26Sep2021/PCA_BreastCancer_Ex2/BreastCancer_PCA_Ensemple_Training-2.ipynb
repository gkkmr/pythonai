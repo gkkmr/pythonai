{
 "cells": [
  {
   "cell_type": "markdown",
   "metadata": {},
   "source": []
  },
  {
   "cell_type": "markdown",
   "metadata": {},
   "source": [
    "# BreastCancer_PCA_Ensemple_Training2"
   ]
  },
  {
   "cell_type": "markdown",
   "metadata": {},
   "source": [
    "here are using a range of techniques to build a model"
   ]
  },
  {
   "cell_type": "code",
   "execution_count": null,
   "metadata": {},
   "outputs": [],
   "source": []
  },
  {
   "cell_type": "code",
   "execution_count": null,
   "metadata": {},
   "outputs": [],
   "source": []
  },
  {
   "cell_type": "markdown",
   "metadata": {},
   "source": [
    "**Importing all required libraries**"
   ]
  },
  {
   "cell_type": "code",
   "execution_count": 1,
   "metadata": {},
   "outputs": [],
   "source": [
    "import pandas as pd\n",
    "import numpy as np\n",
    "import matplotlib.pyplot as plt\n",
    "from sklearn.decomposition import PCA\n",
    "from sklearn.preprocessing import StandardScaler\n",
    "get_ipython().run_line_magic('matplotlib', 'inline')"
   ]
  },
  {
   "cell_type": "code",
   "execution_count": 2,
   "metadata": {},
   "outputs": [],
   "source": [
    "from sklearn.model_selection import train_test_split\n",
    "\n",
    "from sklearn.preprocessing import StandardScaler\n",
    "\n",
    "from sklearn.linear_model import LogisticRegression\n",
    "\n",
    "\n",
    "from sklearn.tree import DecisionTreeClassifier\n",
    "\n",
    "from sklearn.decomposition import PCA\n",
    "\n",
    "#from sklearn.discriminant_analysis import LinearDiscriminantAnalysis as LDA\n",
    "\n",
    "from sklearn.metrics import accuracy_score,recall_score,confusion_matrix\n",
    "\n",
    "from sklearn.ensemble import VotingClassifier\n",
    "\n",
    "from sklearn.model_selection import GridSearchCV"
   ]
  },
  {
   "cell_type": "code",
   "execution_count": 3,
   "metadata": {},
   "outputs": [],
   "source": [
    "#%cd \"C:\\Users\\hp\\Downloads\""
   ]
  },
  {
   "cell_type": "code",
   "execution_count": 4,
   "metadata": {},
   "outputs": [],
   "source": [
    "from pandas import read_csv\n",
    "df=read_csv(\"2_breast-cancer-data.csv\")\n",
    "df['diagnosis'] = df['diagnosis'].replace('M',1)\n",
    "#M cancerous\n",
    "df['diagnosis'] = df['diagnosis'].replace('B',0)\n",
    "#B non cancer\n",
    "X =df.iloc[:,2:32].values\n",
    "y =df.iloc[:,1:2].values"
   ]
  },
  {
   "cell_type": "code",
   "execution_count": 5,
   "metadata": {},
   "outputs": [
    {
     "data": {
      "text/html": [
       "<div>\n",
       "<style scoped>\n",
       "    .dataframe tbody tr th:only-of-type {\n",
       "        vertical-align: middle;\n",
       "    }\n",
       "\n",
       "    .dataframe tbody tr th {\n",
       "        vertical-align: top;\n",
       "    }\n",
       "\n",
       "    .dataframe thead th {\n",
       "        text-align: right;\n",
       "    }\n",
       "</style>\n",
       "<table border=\"1\" class=\"dataframe\">\n",
       "  <thead>\n",
       "    <tr style=\"text-align: right;\">\n",
       "      <th></th>\n",
       "      <th>id</th>\n",
       "      <th>diagnosis</th>\n",
       "      <th>radius_mean</th>\n",
       "      <th>texture_mean</th>\n",
       "      <th>perimeter_mean</th>\n",
       "      <th>area_mean</th>\n",
       "      <th>smoothness_mean</th>\n",
       "      <th>compactness_mean</th>\n",
       "      <th>concavity_mean</th>\n",
       "      <th>concave points_mean</th>\n",
       "      <th>...</th>\n",
       "      <th>radius_worst</th>\n",
       "      <th>texture_worst</th>\n",
       "      <th>perimeter_worst</th>\n",
       "      <th>area_worst</th>\n",
       "      <th>smoothness_worst</th>\n",
       "      <th>compactness_worst</th>\n",
       "      <th>concavity_worst</th>\n",
       "      <th>concave points_worst</th>\n",
       "      <th>symmetry_worst</th>\n",
       "      <th>fractal_dimension_worst</th>\n",
       "    </tr>\n",
       "  </thead>\n",
       "  <tbody>\n",
       "    <tr>\n",
       "      <th>0</th>\n",
       "      <td>842302</td>\n",
       "      <td>1</td>\n",
       "      <td>17.99</td>\n",
       "      <td>10.38</td>\n",
       "      <td>122.80</td>\n",
       "      <td>1001.0</td>\n",
       "      <td>0.11840</td>\n",
       "      <td>0.27760</td>\n",
       "      <td>0.3001</td>\n",
       "      <td>0.14710</td>\n",
       "      <td>...</td>\n",
       "      <td>25.38</td>\n",
       "      <td>17.33</td>\n",
       "      <td>184.60</td>\n",
       "      <td>2019.0</td>\n",
       "      <td>0.1622</td>\n",
       "      <td>0.6656</td>\n",
       "      <td>0.7119</td>\n",
       "      <td>0.2654</td>\n",
       "      <td>0.4601</td>\n",
       "      <td>0.11890</td>\n",
       "    </tr>\n",
       "    <tr>\n",
       "      <th>1</th>\n",
       "      <td>842517</td>\n",
       "      <td>1</td>\n",
       "      <td>20.57</td>\n",
       "      <td>17.77</td>\n",
       "      <td>132.90</td>\n",
       "      <td>1326.0</td>\n",
       "      <td>0.08474</td>\n",
       "      <td>0.07864</td>\n",
       "      <td>0.0869</td>\n",
       "      <td>0.07017</td>\n",
       "      <td>...</td>\n",
       "      <td>24.99</td>\n",
       "      <td>23.41</td>\n",
       "      <td>158.80</td>\n",
       "      <td>1956.0</td>\n",
       "      <td>0.1238</td>\n",
       "      <td>0.1866</td>\n",
       "      <td>0.2416</td>\n",
       "      <td>0.1860</td>\n",
       "      <td>0.2750</td>\n",
       "      <td>0.08902</td>\n",
       "    </tr>\n",
       "    <tr>\n",
       "      <th>2</th>\n",
       "      <td>84300903</td>\n",
       "      <td>1</td>\n",
       "      <td>19.69</td>\n",
       "      <td>21.25</td>\n",
       "      <td>130.00</td>\n",
       "      <td>1203.0</td>\n",
       "      <td>0.10960</td>\n",
       "      <td>0.15990</td>\n",
       "      <td>0.1974</td>\n",
       "      <td>0.12790</td>\n",
       "      <td>...</td>\n",
       "      <td>23.57</td>\n",
       "      <td>25.53</td>\n",
       "      <td>152.50</td>\n",
       "      <td>1709.0</td>\n",
       "      <td>0.1444</td>\n",
       "      <td>0.4245</td>\n",
       "      <td>0.4504</td>\n",
       "      <td>0.2430</td>\n",
       "      <td>0.3613</td>\n",
       "      <td>0.08758</td>\n",
       "    </tr>\n",
       "    <tr>\n",
       "      <th>3</th>\n",
       "      <td>84348301</td>\n",
       "      <td>1</td>\n",
       "      <td>11.42</td>\n",
       "      <td>20.38</td>\n",
       "      <td>77.58</td>\n",
       "      <td>386.1</td>\n",
       "      <td>0.14250</td>\n",
       "      <td>0.28390</td>\n",
       "      <td>0.2414</td>\n",
       "      <td>0.10520</td>\n",
       "      <td>...</td>\n",
       "      <td>14.91</td>\n",
       "      <td>26.50</td>\n",
       "      <td>98.87</td>\n",
       "      <td>567.7</td>\n",
       "      <td>0.2098</td>\n",
       "      <td>0.8663</td>\n",
       "      <td>0.6869</td>\n",
       "      <td>0.2575</td>\n",
       "      <td>0.6638</td>\n",
       "      <td>0.17300</td>\n",
       "    </tr>\n",
       "    <tr>\n",
       "      <th>4</th>\n",
       "      <td>84358402</td>\n",
       "      <td>1</td>\n",
       "      <td>20.29</td>\n",
       "      <td>14.34</td>\n",
       "      <td>135.10</td>\n",
       "      <td>1297.0</td>\n",
       "      <td>0.10030</td>\n",
       "      <td>0.13280</td>\n",
       "      <td>0.1980</td>\n",
       "      <td>0.10430</td>\n",
       "      <td>...</td>\n",
       "      <td>22.54</td>\n",
       "      <td>16.67</td>\n",
       "      <td>152.20</td>\n",
       "      <td>1575.0</td>\n",
       "      <td>0.1374</td>\n",
       "      <td>0.2050</td>\n",
       "      <td>0.4000</td>\n",
       "      <td>0.1625</td>\n",
       "      <td>0.2364</td>\n",
       "      <td>0.07678</td>\n",
       "    </tr>\n",
       "  </tbody>\n",
       "</table>\n",
       "<p>5 rows × 32 columns</p>\n",
       "</div>"
      ],
      "text/plain": [
       "         id  diagnosis  radius_mean  texture_mean  perimeter_mean  area_mean  \\\n",
       "0    842302          1        17.99         10.38          122.80     1001.0   \n",
       "1    842517          1        20.57         17.77          132.90     1326.0   \n",
       "2  84300903          1        19.69         21.25          130.00     1203.0   \n",
       "3  84348301          1        11.42         20.38           77.58      386.1   \n",
       "4  84358402          1        20.29         14.34          135.10     1297.0   \n",
       "\n",
       "   smoothness_mean  compactness_mean  concavity_mean  concave points_mean  \\\n",
       "0          0.11840           0.27760          0.3001              0.14710   \n",
       "1          0.08474           0.07864          0.0869              0.07017   \n",
       "2          0.10960           0.15990          0.1974              0.12790   \n",
       "3          0.14250           0.28390          0.2414              0.10520   \n",
       "4          0.10030           0.13280          0.1980              0.10430   \n",
       "\n",
       "   ...  radius_worst  texture_worst  perimeter_worst  area_worst  \\\n",
       "0  ...         25.38          17.33           184.60      2019.0   \n",
       "1  ...         24.99          23.41           158.80      1956.0   \n",
       "2  ...         23.57          25.53           152.50      1709.0   \n",
       "3  ...         14.91          26.50            98.87       567.7   \n",
       "4  ...         22.54          16.67           152.20      1575.0   \n",
       "\n",
       "   smoothness_worst  compactness_worst  concavity_worst  concave points_worst  \\\n",
       "0            0.1622             0.6656           0.7119                0.2654   \n",
       "1            0.1238             0.1866           0.2416                0.1860   \n",
       "2            0.1444             0.4245           0.4504                0.2430   \n",
       "3            0.2098             0.8663           0.6869                0.2575   \n",
       "4            0.1374             0.2050           0.4000                0.1625   \n",
       "\n",
       "   symmetry_worst  fractal_dimension_worst  \n",
       "0          0.4601                  0.11890  \n",
       "1          0.2750                  0.08902  \n",
       "2          0.3613                  0.08758  \n",
       "3          0.6638                  0.17300  \n",
       "4          0.2364                  0.07678  \n",
       "\n",
       "[5 rows x 32 columns]"
      ]
     },
     "execution_count": 5,
     "metadata": {},
     "output_type": "execute_result"
    }
   ],
   "source": [
    "df.head()"
   ]
  },
  {
   "cell_type": "markdown",
   "metadata": {},
   "source": [
    "**Aapply algorithms on non standard data**"
   ]
  },
  {
   "cell_type": "code",
   "execution_count": 6,
   "metadata": {},
   "outputs": [],
   "source": [
    "X1_train, X1_test, y1_train, y1_test = train_test_split(X, y, test_size = 0.2, random_state = 0)\n",
    "#expects a 1-d vector\n",
    "#else it throws an error\n",
    "y1_train=y1_train.ravel(order='F')\n"
   ]
  },
  {
   "cell_type": "code",
   "execution_count": null,
   "metadata": {},
   "outputs": [],
   "source": []
  },
  {
   "cell_type": "code",
   "execution_count": 7,
   "metadata": {},
   "outputs": [
    {
     "data": {
      "text/plain": [
       "array([0, 0, 0, 0, 0, 0, 0, 0, 1, 0, 1, 0, 0, 0, 0, 0, 1, 0, 0, 0, 0, 0,\n",
       "       0, 1, 1, 0, 0, 0, 1, 0, 0, 1, 0, 1, 0, 0, 0, 0, 0, 0, 0, 1, 0, 1,\n",
       "       0, 1, 1, 0, 0, 1, 0, 1, 1, 1, 0, 0, 0, 0, 0, 0, 1, 0, 0, 0, 0, 1,\n",
       "       1, 0, 0, 1, 0, 0, 0, 0, 1, 0, 0, 1, 1, 0, 0, 1, 1, 0, 0, 1, 0, 0,\n",
       "       1, 1, 1, 0, 0, 0, 1, 0, 0, 0, 0, 0, 1, 0, 1, 0, 1, 0, 1, 0, 1, 0,\n",
       "       0, 0, 0, 1, 0, 1, 0, 0, 0, 1, 0, 0, 0, 1, 0, 0, 1, 1, 0, 1, 0, 1,\n",
       "       0, 1, 1, 1, 1, 0, 1, 0, 1, 0, 1, 0, 1, 0, 0, 1, 0, 0, 0, 0, 0, 0,\n",
       "       0, 0, 0, 0, 0, 0, 0, 1, 0, 0, 0, 1, 0, 0, 0, 0, 0, 0, 1, 0, 1, 0,\n",
       "       0, 1, 0, 1, 1, 0, 1, 1, 0, 0, 1, 0, 0, 0, 1, 0, 0, 0, 0, 0, 1, 1,\n",
       "       0, 0, 0, 0, 1, 1, 0, 0, 0, 0, 1, 0, 0, 1, 0, 0, 1, 0, 1, 0, 0, 0,\n",
       "       0, 1, 1, 1, 1, 0, 1, 0, 1, 1, 0, 0, 0, 0, 0, 1, 0, 0, 1, 0, 0, 1,\n",
       "       1, 0, 0, 0, 1, 1, 0, 0, 1, 0, 0, 0, 1, 0, 1, 0, 1, 1, 1, 1, 0, 0,\n",
       "       0, 0, 1, 1, 0, 0, 0, 0, 0, 1, 0, 0, 1, 0, 0, 1, 1, 1, 1, 0, 0, 1,\n",
       "       0, 0, 0, 1, 1, 0, 0, 0, 0, 0, 1, 1, 1, 0, 1, 1, 0, 0, 0, 0, 0, 0,\n",
       "       1, 0, 0, 0, 0, 0, 0, 1, 1, 0, 1, 0, 1, 1, 0, 0, 0, 0, 0, 1, 1, 1,\n",
       "       0, 0, 1, 1, 0, 0, 1, 0, 1, 1, 0, 1, 0, 0, 0, 0, 0, 0, 0, 1, 1, 0,\n",
       "       0, 0, 1, 0, 0, 0, 0, 1, 0, 1, 1, 1, 0, 1, 0, 1, 0, 1, 1, 0, 0, 0,\n",
       "       0, 0, 0, 0, 0, 1, 1, 1, 1, 1, 0, 0, 0, 0, 0, 0, 0, 1, 0, 1, 0, 0,\n",
       "       0, 0, 0, 1, 1, 1, 0, 1, 0, 0, 1, 1, 1, 1, 0, 1, 1, 1, 0, 1, 0, 1,\n",
       "       0, 0, 1, 1, 0, 1, 0, 0, 0, 0, 1, 0, 0, 1, 0, 0, 0, 1, 1, 0, 0, 0,\n",
       "       1, 0, 0, 1, 0, 0, 0, 0, 0, 1, 1, 1, 0, 0, 0], dtype=int64)"
      ]
     },
     "execution_count": 7,
     "metadata": {},
     "output_type": "execute_result"
    }
   ],
   "source": [
    "y1_train"
   ]
  },
  {
   "cell_type": "code",
   "execution_count": null,
   "metadata": {},
   "outputs": [],
   "source": []
  },
  {
   "cell_type": "markdown",
   "metadata": {},
   "source": [
    "**Logistic**"
   ]
  },
  {
   "cell_type": "code",
   "execution_count": 8,
   "metadata": {},
   "outputs": [
    {
     "name": "stderr",
     "output_type": "stream",
     "text": [
      "C:\\ProgramData\\Anaconda3\\lib\\site-packages\\sklearn\\linear_model\\_logistic.py:762: ConvergenceWarning: lbfgs failed to converge (status=1):\n",
      "STOP: TOTAL NO. of ITERATIONS REACHED LIMIT.\n",
      "\n",
      "Increase the number of iterations (max_iter) or scale the data as shown in:\n",
      "    https://scikit-learn.org/stable/modules/preprocessing.html\n",
      "Please also refer to the documentation for alternative solver options:\n",
      "    https://scikit-learn.org/stable/modules/linear_model.html#logistic-regression\n",
      "  n_iter_i = _check_optimize_result(\n"
     ]
    },
    {
     "data": {
      "text/plain": [
       "LogisticRegression(random_state=0)"
      ]
     },
     "execution_count": 8,
     "metadata": {},
     "output_type": "execute_result"
    }
   ],
   "source": [
    "logit1 = LogisticRegression(random_state = 0)\n",
    "logit1.fit(X1_train, y1_train)"
   ]
  },
  {
   "cell_type": "code",
   "execution_count": 9,
   "metadata": {},
   "outputs": [
    {
     "name": "stdout",
     "output_type": "stream",
     "text": [
      "0.9473684210526315\n"
     ]
    }
   ],
   "source": [
    "acl1=accuracy_score(y1_test,logit1.predict(X1_test))\n",
    "print(acl1)"
   ]
  },
  {
   "cell_type": "code",
   "execution_count": 10,
   "metadata": {},
   "outputs": [
    {
     "name": "stdout",
     "output_type": "stream",
     "text": [
      "[[63  4]\n",
      " [ 2 45]]\n"
     ]
    }
   ],
   "source": [
    "cml1= confusion_matrix(y1_test, logit1.predict(X1_test))\n",
    "print(cml1)"
   ]
  },
  {
   "cell_type": "markdown",
   "metadata": {},
   "source": [
    "**Decision Tree classifier**"
   ]
  },
  {
   "cell_type": "code",
   "execution_count": 11,
   "metadata": {},
   "outputs": [
    {
     "data": {
      "text/plain": [
       "DecisionTreeClassifier(criterion='entropy', random_state=0)"
      ]
     },
     "execution_count": 11,
     "metadata": {},
     "output_type": "execute_result"
    }
   ],
   "source": [
    "dec1 = DecisionTreeClassifier(criterion = 'entropy', random_state = 0)\n",
    "dec1.fit(X1_train, y1_train)"
   ]
  },
  {
   "cell_type": "code",
   "execution_count": 12,
   "metadata": {},
   "outputs": [
    {
     "name": "stdout",
     "output_type": "stream",
     "text": [
      "0.9298245614035088\n"
     ]
    }
   ],
   "source": [
    "acd1=accuracy_score(y1_test,dec1.predict(X1_test))\n",
    "print(acd1)"
   ]
  },
  {
   "cell_type": "markdown",
   "metadata": {},
   "source": [
    "# Ensemble"
   ]
  },
  {
   "cell_type": "markdown",
   "metadata": {},
   "source": [
    "Ensemble Algorithm, it uses all the different Alogrithms that we have implemented and take the best Algorithms to make predictions"
   ]
  },
  {
   "cell_type": "markdown",
   "metadata": {},
   "source": [
    "# VotingClassifier"
   ]
  },
  {
   "cell_type": "markdown",
   "metadata": {},
   "source": [
    "here Voting Classing is used to implement an ensemble algorithm that has a mix of all the other alogrithms"
   ]
  },
  {
   "cell_type": "code",
   "execution_count": 13,
   "metadata": {},
   "outputs": [],
   "source": [
    "#VotingClassifier("
   ]
  },
  {
   "cell_type": "code",
   "execution_count": 14,
   "metadata": {},
   "outputs": [
    {
     "name": "stderr",
     "output_type": "stream",
     "text": [
      "C:\\ProgramData\\Anaconda3\\lib\\site-packages\\sklearn\\linear_model\\_logistic.py:762: ConvergenceWarning: lbfgs failed to converge (status=1):\n",
      "STOP: TOTAL NO. of ITERATIONS REACHED LIMIT.\n",
      "\n",
      "Increase the number of iterations (max_iter) or scale the data as shown in:\n",
      "    https://scikit-learn.org/stable/modules/preprocessing.html\n",
      "Please also refer to the documentation for alternative solver options:\n",
      "    https://scikit-learn.org/stable/modules/linear_model.html#logistic-regression\n",
      "  n_iter_i = _check_optimize_result(\n"
     ]
    },
    {
     "data": {
      "text/plain": [
       "VotingClassifier(estimators=[('logit1', LogisticRegression(random_state=0)),\n",
       "                             ('dec1',\n",
       "                              DecisionTreeClassifier(criterion='entropy',\n",
       "                                                     random_state=0))])"
      ]
     },
     "execution_count": 14,
     "metadata": {},
     "output_type": "execute_result"
    }
   ],
   "source": [
    "#create a dictionary of our models\n",
    "estimators=[('logit1' ,logit1), ('dec1',dec1)]\n",
    "#create our voting classifier, inputting our models\n",
    "ensemble = VotingClassifier(estimators)\n",
    "#VotingClassifier(\n",
    "\n",
    "#fit model to training data\n",
    "ensemble.fit(X1_train, y1_train)"
   ]
  },
  {
   "cell_type": "code",
   "execution_count": 15,
   "metadata": {},
   "outputs": [
    {
     "data": {
      "text/plain": [
       "0.9385964912280702"
      ]
     },
     "execution_count": 15,
     "metadata": {},
     "output_type": "execute_result"
    }
   ],
   "source": [
    "ace1=accuracy_score(y1_test,ensemble.predict(X1_test))\n",
    "ace1"
   ]
  },
  {
   "cell_type": "markdown",
   "metadata": {},
   "source": [
    "**On Standardized data**"
   ]
  },
  {
   "cell_type": "code",
   "execution_count": 16,
   "metadata": {},
   "outputs": [],
   "source": [
    "X2_train, X2_test, y2_train, y2_test = train_test_split(X, y, test_size = 0.2, random_state = 0)\n",
    "y2_train=y2_train.ravel(order='F')\n",
    "sc = StandardScaler()\n",
    "\n",
    "X2_train = sc.fit_transform(X2_train)\n",
    "X2_test = sc.transform(X2_test)\n",
    "\n"
   ]
  },
  {
   "cell_type": "code",
   "execution_count": 17,
   "metadata": {},
   "outputs": [
    {
     "data": {
      "text/plain": [
       "array([[-1.15036482, -0.39064196, -1.12855021, -0.95876358,  0.3109837 ,\n",
       "        -0.5959945 , -0.80259612, -0.80249002,  0.29453906,  0.0942515 ,\n",
       "        -0.4950523 ,  1.48720153, -0.51448782, -0.49154005,  0.28149837,\n",
       "        -0.60451206, -0.46900701, -0.61170002,  0.05798237, -0.35763702,\n",
       "        -1.0431756 ,  0.21353282, -1.0360446 , -0.84880771,  0.34249851,\n",
       "        -0.73009743, -0.81232053, -0.75798367, -0.01614761, -0.38503402],\n",
       "       [-0.93798972,  0.68051405, -0.94820146, -0.82152548, -0.60963604,\n",
       "        -0.90986721, -0.66066905, -0.89871612,  0.75493453, -0.42547082,\n",
       "        -0.33381757,  0.75941203, -0.28751805, -0.42127695, -0.1620797 ,\n",
       "        -0.20486693, -0.05029632, -0.20309076, -0.25469005, -0.39139463,\n",
       "        -0.71565415,  1.06684183, -0.68992205, -0.66869703, -0.09553745,\n",
       "        -0.53786647, -0.37504806, -0.60687023,  0.09669004, -0.38615797],\n",
       "       [ 0.574121  , -1.03333557,  0.51394098,  0.40858627, -0.10616078,\n",
       "        -0.36301886, -0.41799048, -0.08844569, -0.27182044, -0.57522132,\n",
       "        -0.57672579, -1.05784511, -0.53856037, -0.38708923, -1.07211882,\n",
       "        -0.72057496, -0.42362791, -0.49218988, -0.67484362, -0.80147288,\n",
       "         0.29761532, -0.97781783,  0.26213665,  0.11388819, -0.52472419,\n",
       "        -0.52086645, -0.18298917, -0.02371948, -0.20050207, -0.75144254],\n",
       "       [-0.54721953, -0.3160221 , -0.57762185, -0.5666148 ,  0.5866618 ,\n",
       "        -0.64933105, -0.80529827, -0.50006514,  0.33107838,  0.54056672,\n",
       "        -0.12822568,  0.55622207, -0.20400103, -0.33234693, -0.55285085,\n",
       "        -0.75888143, -0.64891421,  0.60156561,  0.20454757, -0.11596321,\n",
       "        -0.70132509, -0.75792666, -0.73573673, -0.65896593, -0.81674816,\n",
       "        -1.03492082, -1.09163333, -0.85254451, -1.07618575, -0.54688318],\n",
       "       [-0.52739786,  0.79124029, -0.5615634 , -0.52357067, -1.05144646,\n",
       "        -1.0175317 , -0.90514905, -0.93580596, -0.9697215 , -0.42693897,\n",
       "        -0.62882784, -0.13092944, -0.61323441, -0.46658092, -0.67149038,\n",
       "        -0.74401623, -0.71006335, -1.20449751, -0.54293494, -0.50302491,\n",
       "        -0.42702588,  1.05863694, -0.42242341, -0.44095517, -0.30349391,\n",
       "        -0.46725101, -0.72456516, -0.78311815,  0.31124049, -0.08212882]])"
      ]
     },
     "execution_count": 17,
     "metadata": {},
     "output_type": "execute_result"
    }
   ],
   "source": [
    "X2_train[0:5,:]"
   ]
  },
  {
   "cell_type": "code",
   "execution_count": null,
   "metadata": {},
   "outputs": [],
   "source": []
  },
  {
   "cell_type": "markdown",
   "metadata": {},
   "source": [
    "**Logistic Regression Classifier**"
   ]
  },
  {
   "cell_type": "code",
   "execution_count": 18,
   "metadata": {},
   "outputs": [
    {
     "data": {
      "text/plain": [
       "LogisticRegression(random_state=0)"
      ]
     },
     "execution_count": 18,
     "metadata": {},
     "output_type": "execute_result"
    }
   ],
   "source": [
    "logit2 = LogisticRegression(random_state = 0)\n",
    "logit2.fit(X2_train, y2_train)"
   ]
  },
  {
   "cell_type": "code",
   "execution_count": 19,
   "metadata": {},
   "outputs": [],
   "source": [
    "acl2=accuracy_score(y2_test,logit2.predict(X2_test))"
   ]
  },
  {
   "cell_type": "code",
   "execution_count": 20,
   "metadata": {},
   "outputs": [
    {
     "name": "stdout",
     "output_type": "stream",
     "text": [
      "0.9649122807017544\n"
     ]
    }
   ],
   "source": [
    "print(acl2)"
   ]
  },
  {
   "cell_type": "code",
   "execution_count": 21,
   "metadata": {},
   "outputs": [
    {
     "name": "stdout",
     "output_type": "stream",
     "text": [
      "[[65  2]\n",
      " [ 2 45]]\n"
     ]
    }
   ],
   "source": [
    "cml2= confusion_matrix(y2_test, logit2.predict(X2_test))\n",
    "print(cml2)"
   ]
  },
  {
   "cell_type": "code",
   "execution_count": null,
   "metadata": {},
   "outputs": [],
   "source": []
  },
  {
   "cell_type": "markdown",
   "metadata": {},
   "source": [
    "**Decision Tree**"
   ]
  },
  {
   "cell_type": "code",
   "execution_count": 22,
   "metadata": {},
   "outputs": [
    {
     "data": {
      "text/plain": [
       "DecisionTreeClassifier(criterion='entropy', random_state=0)"
      ]
     },
     "execution_count": 22,
     "metadata": {},
     "output_type": "execute_result"
    }
   ],
   "source": [
    "dec2 = DecisionTreeClassifier(criterion = 'entropy', random_state = 0)\n",
    "dec2.fit(X2_train, y2_train)"
   ]
  },
  {
   "cell_type": "code",
   "execution_count": 23,
   "metadata": {},
   "outputs": [
    {
     "name": "stdout",
     "output_type": "stream",
     "text": [
      "0.9298245614035088\n"
     ]
    }
   ],
   "source": [
    "acd2=accuracy_score(y2_test,dec2.predict(X2_test))\n",
    "print(acd2)"
   ]
  },
  {
   "cell_type": "code",
   "execution_count": 24,
   "metadata": {},
   "outputs": [
    {
     "name": "stdout",
     "output_type": "stream",
     "text": [
      "[[62  5]\n",
      " [ 3 44]]\n"
     ]
    }
   ],
   "source": [
    "cmd2= confusion_matrix(y2_test, dec2.predict(X2_test))\n",
    "print(cmd2)"
   ]
  },
  {
   "cell_type": "code",
   "execution_count": 25,
   "metadata": {},
   "outputs": [
    {
     "data": {
      "text/plain": [
       "VotingClassifier(estimators=[('logit2', LogisticRegression(random_state=0)),\n",
       "                             ('dec2',\n",
       "                              DecisionTreeClassifier(criterion='entropy',\n",
       "                                                     random_state=0))])"
      ]
     },
     "execution_count": 25,
     "metadata": {},
     "output_type": "execute_result"
    }
   ],
   "source": [
    "#create a dictionary of our models\n",
    "estimators=[('logit2' ,logit2), ('dec2',dec2)]\n",
    "#create our voting classifier, inputting our models\n",
    "ensemble2 = VotingClassifier(estimators)\n",
    "#fit model to training data\n",
    "ensemble2.fit(X2_train, y2_train)"
   ]
  },
  {
   "cell_type": "code",
   "execution_count": 26,
   "metadata": {},
   "outputs": [
    {
     "data": {
      "text/plain": [
       "0.9473684210526315"
      ]
     },
     "execution_count": 26,
     "metadata": {},
     "output_type": "execute_result"
    }
   ],
   "source": [
    "ace2=accuracy_score(y2_test,ensemble2.predict(X2_test))\n",
    "ace2"
   ]
  },
  {
   "cell_type": "markdown",
   "metadata": {},
   "source": [
    "# **PCA on Non Standard Data** (Raw Data) - PCA will not work"
   ]
  },
  {
   "cell_type": "markdown",
   "metadata": {},
   "source": [
    "Here the Non Standard data, which is the Raw data (original Breast Cancer Data)"
   ]
  },
  {
   "cell_type": "markdown",
   "metadata": {},
   "source": [
    "Here the PCA will not work well because we are applying PCA on Non-Standard Data. PCA works best when data is standardized"
   ]
  },
  {
   "cell_type": "markdown",
   "metadata": {},
   "source": [
    "Ideally, PCA should always be run on NON Standardized data"
   ]
  },
  {
   "cell_type": "code",
   "execution_count": 27,
   "metadata": {},
   "outputs": [],
   "source": [
    "X3_train, X3_test, y3_train, y3_test = train_test_split(X, y, test_size = 0.2, random_state = 0)\n",
    "y3_train=y3_train.ravel(order='F')"
   ]
  },
  {
   "cell_type": "code",
   "execution_count": 28,
   "metadata": {},
   "outputs": [
    {
     "data": {
      "text/plain": [
       "array([[1.005e+01, 1.753e+01, 6.441e+01, 3.108e+02, 1.007e-01, 7.326e-02,\n",
       "        2.511e-02, 1.775e-02, 1.890e-01, 6.331e-02, 2.619e-01, 2.015e+00,\n",
       "        1.778e+00, 1.685e+01, 7.803e-03, 1.449e-02, 1.690e-02, 8.043e-03,\n",
       "        2.100e-02, 2.778e-03, 1.116e+01, 2.684e+01, 7.198e+01, 3.840e+02,\n",
       "        1.402e-01, 1.402e-01, 1.055e-01, 6.499e-02, 2.894e-01, 7.664e-02],\n",
       "       [1.080e+01, 2.198e+01, 6.879e+01, 3.599e+02, 8.801e-02, 5.743e-02,\n",
       "        3.614e-02, 1.404e-02, 2.016e-01, 5.977e-02, 3.077e-01, 1.621e+00,\n",
       "        2.240e+00, 2.020e+01, 6.543e-03, 2.148e-02, 2.991e-02, 1.045e-02,\n",
       "        1.844e-02, 2.690e-03, 1.276e+01, 3.204e+01, 8.369e+01, 4.895e+02,\n",
       "        1.303e-01, 1.696e-01, 1.927e-01, 7.485e-02, 2.965e-01, 7.662e-02],\n",
       "       [1.614e+01, 1.486e+01, 1.043e+02, 8.000e+02, 9.495e-02, 8.501e-02,\n",
       "        5.500e-02, 4.528e-02, 1.735e-01, 5.875e-02, 2.387e-01, 6.372e-01,\n",
       "        1.729e+00, 2.183e+01, 3.958e-03, 1.246e-02, 1.831e-02, 8.747e-03,\n",
       "        1.500e-02, 1.621e-03, 1.771e+01, 1.958e+01, 1.159e+02, 9.479e+02,\n",
       "        1.206e-01, 1.722e-01, 2.310e-01, 1.129e-01, 2.778e-01, 7.012e-02],\n",
       "       [1.218e+01, 1.784e+01, 7.779e+01, 4.511e+02, 1.045e-01, 7.057e-02,\n",
       "        2.490e-02, 2.941e-02, 1.900e-01, 6.635e-02, 3.661e-01, 1.511e+00,\n",
       "        2.410e+00, 2.444e+01, 5.433e-03, 1.179e-02, 1.131e-02, 1.519e-02,\n",
       "        2.220e-02, 3.408e-03, 1.283e+01, 2.092e+01, 8.214e+01, 4.952e+02,\n",
       "        1.140e-01, 9.358e-02, 4.980e-02, 5.882e-02, 2.227e-01, 7.376e-02],\n",
       "       [1.225e+01, 2.244e+01, 7.818e+01, 4.665e+02, 8.192e-02, 5.200e-02,\n",
       "        1.714e-02, 1.261e-02, 1.544e-01, 5.976e-02, 2.239e-01, 1.139e+00,\n",
       "        1.577e+00, 1.804e+01, 5.096e-03, 1.205e-02, 9.410e-03, 4.551e-03,\n",
       "        1.608e-02, 2.399e-03, 1.417e+01, 3.199e+01, 9.274e+01, 6.229e+02,\n",
       "        1.256e-01, 1.804e-01, 1.230e-01, 6.335e-02, 3.100e-01, 8.203e-02]])"
      ]
     },
     "execution_count": 28,
     "metadata": {},
     "output_type": "execute_result"
    }
   ],
   "source": [
    "XB3_train= X3_train\n",
    "X3_train[0:5,:]"
   ]
  },
  {
   "cell_type": "code",
   "execution_count": 29,
   "metadata": {},
   "outputs": [],
   "source": [
    "pca = PCA()\n",
    "X3_train = pca.fit_transform(X3_train)\n",
    "X3_test = pca.transform(X3_test)\n",
    "explained_variance = pca.explained_variance_ratio_"
   ]
  },
  {
   "cell_type": "code",
   "execution_count": 30,
   "metadata": {},
   "outputs": [
    {
     "data": {
      "text/plain": [
       "array([[-6.04753682e+02, -3.88235725e+01,  1.27036258e+01,\n",
       "         2.59617055e+00, -5.43578720e+00,  1.45652735e+00,\n",
       "         1.77071316e+00, -5.35811897e-01,  1.58740280e-01,\n",
       "         1.66681516e-01, -1.93646857e-02, -8.34729499e-02,\n",
       "        -8.11518615e-03,  1.65807278e-02,  5.69828812e-03,\n",
       "        -2.66906996e-03, -1.07925768e-02,  6.83021910e-03,\n",
       "        -8.27739868e-03, -1.05989811e-02, -1.19055676e-03,\n",
       "        -3.30076795e-03,  4.54096444e-03,  6.37557286e-04,\n",
       "        -1.35387370e-03,  1.78367587e-03,  3.98453895e-04,\n",
       "         1.65606568e-03, -6.79165096e-04,  7.15960483e-05],\n",
       "       [-4.88463997e+02, -5.10471286e+01,  9.05491820e+00,\n",
       "        -5.66222595e+00, -6.06456019e+00,  2.83022379e+00,\n",
       "         4.05100468e-01,  8.51387188e-02, -2.50357093e-01,\n",
       "         7.50227379e-02, -1.26541477e-02, -9.57397265e-03,\n",
       "        -3.67721770e-02,  2.53020514e-02,  1.72513655e-03,\n",
       "         6.93037694e-03,  6.38961524e-03, -6.24194632e-03,\n",
       "        -2.76764761e-02, -5.06618706e-03, -6.86171870e-03,\n",
       "        -2.80543645e-03, -3.29855444e-03, -2.53763125e-04,\n",
       "         1.23575602e-03,  2.08952386e-03,  8.76820878e-04,\n",
       "        -1.06738042e-04, -1.02025064e-03, -3.82526791e-04],\n",
       "       [ 1.31695999e+02,  9.07258194e+01, -2.87732561e+01,\n",
       "         5.00874729e+00,  5.24846134e+00, -1.70873250e-01,\n",
       "         4.55012016e-01,  2.46682158e-01, -1.18298990e-01,\n",
       "         7.43518748e-02, -7.77556291e-02,  3.88148327e-02,\n",
       "        -1.56438789e-02,  1.35967793e-02,  1.50185607e-02,\n",
       "        -4.12942555e-04, -6.85694946e-03, -7.03003819e-03,\n",
       "        -4.98717853e-03, -1.10357431e-02,  9.74804155e-03,\n",
       "        -1.72270952e-03,  4.38953614e-06, -3.46105181e-03,\n",
       "        -1.26123711e-03,  1.80784822e-04, -1.79585271e-03,\n",
       "        -9.34341335e-04,  1.29073660e-04, -7.23248575e-05],\n",
       "       [-4.36448785e+02,  2.47524114e+01,  8.56825084e+00,\n",
       "         3.52665519e+00,  1.36682766e-02, -1.55177644e+00,\n",
       "        -9.29839329e-01, -4.50060206e-01, -6.00470885e-02,\n",
       "         9.13674842e-02, -1.03261912e-01,  1.74198752e-02,\n",
       "         1.63700767e-02, -2.61082096e-03, -1.48087165e-02,\n",
       "        -2.54673405e-02, -9.63025913e-03, -7.15468958e-03,\n",
       "        -1.48507450e-02,  5.27927008e-03,  5.19227518e-03,\n",
       "         4.73340147e-03,  3.71146488e-03, -8.63749232e-03,\n",
       "         3.83298096e-03, -7.62951291e-04,  1.04369450e-03,\n",
       "        -4.40654272e-03, -2.50154584e-03, -2.51438071e-04],\n",
       "       [-3.19170144e+02, -2.83259768e+01, -3.57490354e+00,\n",
       "        -5.55221578e+00, -5.56450372e+00,  1.39815360e+00,\n",
       "         3.90743708e-01,  6.63627640e-01, -1.66181968e-01,\n",
       "         3.39473284e-02, -1.50738623e-01, -3.53452237e-02,\n",
       "         3.69202127e-03,  1.57121679e-02, -6.06059763e-03,\n",
       "         2.19999283e-02,  7.72889463e-03,  4.61210808e-03,\n",
       "         1.46286127e-02,  1.32526320e-03, -3.28226684e-03,\n",
       "         7.06446891e-03, -4.50333158e-04, -5.80676184e-04,\n",
       "        -2.09627246e-03,  1.84376932e-03,  1.26022119e-06,\n",
       "        -6.13606536e-04,  7.42355054e-05, -2.18388574e-04]])"
      ]
     },
     "execution_count": 30,
     "metadata": {},
     "output_type": "execute_result"
    }
   ],
   "source": [
    "X3_train[0:5,:]"
   ]
  },
  {
   "cell_type": "code",
   "execution_count": 31,
   "metadata": {},
   "outputs": [
    {
     "data": {
      "text/plain": [
       "array([[1.005e+01, 1.753e+01, 6.441e+01, 3.108e+02, 1.007e-01, 7.326e-02,\n",
       "        2.511e-02, 1.775e-02, 1.890e-01, 6.331e-02, 2.619e-01, 2.015e+00,\n",
       "        1.778e+00, 1.685e+01, 7.803e-03, 1.449e-02, 1.690e-02, 8.043e-03,\n",
       "        2.100e-02, 2.778e-03, 1.116e+01, 2.684e+01, 7.198e+01, 3.840e+02,\n",
       "        1.402e-01, 1.402e-01, 1.055e-01, 6.499e-02, 2.894e-01, 7.664e-02],\n",
       "       [1.080e+01, 2.198e+01, 6.879e+01, 3.599e+02, 8.801e-02, 5.743e-02,\n",
       "        3.614e-02, 1.404e-02, 2.016e-01, 5.977e-02, 3.077e-01, 1.621e+00,\n",
       "        2.240e+00, 2.020e+01, 6.543e-03, 2.148e-02, 2.991e-02, 1.045e-02,\n",
       "        1.844e-02, 2.690e-03, 1.276e+01, 3.204e+01, 8.369e+01, 4.895e+02,\n",
       "        1.303e-01, 1.696e-01, 1.927e-01, 7.485e-02, 2.965e-01, 7.662e-02],\n",
       "       [1.614e+01, 1.486e+01, 1.043e+02, 8.000e+02, 9.495e-02, 8.501e-02,\n",
       "        5.500e-02, 4.528e-02, 1.735e-01, 5.875e-02, 2.387e-01, 6.372e-01,\n",
       "        1.729e+00, 2.183e+01, 3.958e-03, 1.246e-02, 1.831e-02, 8.747e-03,\n",
       "        1.500e-02, 1.621e-03, 1.771e+01, 1.958e+01, 1.159e+02, 9.479e+02,\n",
       "        1.206e-01, 1.722e-01, 2.310e-01, 1.129e-01, 2.778e-01, 7.012e-02],\n",
       "       [1.218e+01, 1.784e+01, 7.779e+01, 4.511e+02, 1.045e-01, 7.057e-02,\n",
       "        2.490e-02, 2.941e-02, 1.900e-01, 6.635e-02, 3.661e-01, 1.511e+00,\n",
       "        2.410e+00, 2.444e+01, 5.433e-03, 1.179e-02, 1.131e-02, 1.519e-02,\n",
       "        2.220e-02, 3.408e-03, 1.283e+01, 2.092e+01, 8.214e+01, 4.952e+02,\n",
       "        1.140e-01, 9.358e-02, 4.980e-02, 5.882e-02, 2.227e-01, 7.376e-02],\n",
       "       [1.225e+01, 2.244e+01, 7.818e+01, 4.665e+02, 8.192e-02, 5.200e-02,\n",
       "        1.714e-02, 1.261e-02, 1.544e-01, 5.976e-02, 2.239e-01, 1.139e+00,\n",
       "        1.577e+00, 1.804e+01, 5.096e-03, 1.205e-02, 9.410e-03, 4.551e-03,\n",
       "        1.608e-02, 2.399e-03, 1.417e+01, 3.199e+01, 9.274e+01, 6.229e+02,\n",
       "        1.256e-01, 1.804e-01, 1.230e-01, 6.335e-02, 3.100e-01, 8.203e-02]])"
      ]
     },
     "execution_count": 31,
     "metadata": {},
     "output_type": "execute_result"
    }
   ],
   "source": [
    "XB3_train[0:5,:]"
   ]
  },
  {
   "cell_type": "code",
   "execution_count": 32,
   "metadata": {},
   "outputs": [
    {
     "name": "stdout",
     "output_type": "stream",
     "text": [
      "[9.81870844e-01 1.62780337e-02 1.65248784e-03 1.05497183e-04\n",
      " 8.18783017e-05 6.22259461e-06 3.75190365e-06 6.99443747e-07\n",
      " 3.15377929e-07 1.68171848e-07 6.91807658e-08 1.46377183e-08\n",
      " 7.05443482e-09 4.73776212e-09 2.41694905e-09 1.23671397e-09\n",
      " 7.35417863e-10 5.00390287e-10 3.92785987e-10 3.21190973e-10\n",
      " 1.50454023e-10 1.15835839e-10 7.44339861e-11 5.93766631e-11\n",
      " 3.43198428e-11 2.42771322e-11 6.96416039e-12 5.73232335e-12\n",
      " 3.24311861e-12 1.33754528e-12]\n"
     ]
    }
   ],
   "source": [
    "print(explained_variance)"
   ]
  },
  {
   "cell_type": "code",
   "execution_count": null,
   "metadata": {},
   "outputs": [],
   "source": []
  },
  {
   "cell_type": "markdown",
   "metadata": {},
   "source": [
    "Scree Plot tell the explains the percentage of Variance when we apply PCA.\n",
    "here below the because the data is non standardized, only the first PCA is explaining all the data set or is having the better variance, then rest of the variables"
   ]
  },
  {
   "cell_type": "code",
   "execution_count": 33,
   "metadata": {},
   "outputs": [
    {
     "data": {
      "image/png": "[encoded data removed]",
      "text/plain": [
       "<Figure size 432x288 with 1 Axes>"
      ]
     },
     "metadata": {
      "needs_background": "light"
     },
     "output_type": "display_data"
    }
   ],
   "source": [
    "plt.scatter(range(1,31),explained_variance)\n",
    "plt.plot(range(1,31),explained_variance)\n",
    "plt.title('Scree Plot')\n",
    "plt.xlabel('Principal Component')\n",
    "plt.ylabel('Percentate of Variance Explained')\n",
    "plt.grid()\n",
    "plt.show()"
   ]
  },
  {
   "cell_type": "code",
   "execution_count": 34,
   "metadata": {},
   "outputs": [],
   "source": [
    "X3_train, X3_test, y3_train, y3_test = train_test_split(X, y, test_size = 0.2, random_state = 0)\n",
    "y3_train=y3_train.ravel(order='F')"
   ]
  },
  {
   "cell_type": "markdown",
   "metadata": {},
   "source": [
    "pca = PCA(n_components=1), that is why we using 1 component based on the scree plot"
   ]
  },
  {
   "cell_type": "code",
   "execution_count": 35,
   "metadata": {},
   "outputs": [],
   "source": [
    "pca = PCA(n_components=1)\n",
    "X3_train = pca.fit_transform(X3_train)\n",
    "X3_test = pca.transform(X3_test)\n",
    "explained_variance = pca.explained_variance_ratio_"
   ]
  },
  {
   "cell_type": "code",
   "execution_count": 36,
   "metadata": {},
   "outputs": [
    {
     "data": {
      "text/plain": [
       "array([[-604.75368202],\n",
       "       [-488.46399712],\n",
       "       [ 131.69599902],\n",
       "       [-436.44878504],\n",
       "       [-319.17014375],\n",
       "       [-279.69081454],\n",
       "       [-414.97156245],\n",
       "       [-348.81143706],\n",
       "       [-124.44003956],\n",
       "       [-486.47733324],\n",
       "       [ 980.07874163],\n",
       "       [-429.52993919],\n",
       "       [ -12.68264456],\n",
       "       [-502.04441652],\n",
       "       [-622.92710263],\n",
       "       [-554.63857327],\n",
       "       [ 652.18782413],\n",
       "       [-555.33899519],\n",
       "       [-270.96509343],\n",
       "       [-272.47668881],\n",
       "       [-487.43880995],\n",
       "       [-482.46276054],\n",
       "       [ -39.8494696 ],\n",
       "       [  98.41889609],\n",
       "       [2297.62928075],\n",
       "       [-600.63258475],\n",
       "       [-368.55322672],\n",
       "       [-285.55491949],\n",
       "       [1449.6816069 ],\n",
       "       [-427.10641228],\n",
       "       [-520.36816696],\n",
       "       [1044.62272638],\n",
       "       [-164.84450871],\n",
       "       [ 278.30853914],\n",
       "       [-381.96067927],\n",
       "       [-192.21915778],\n",
       "       [-373.38815774],\n",
       "       [-159.89117665],\n",
       "       [-686.81504049],\n",
       "       [-192.36618993],\n",
       "       [-658.0018545 ],\n",
       "       [  45.27219845],\n",
       "       [-134.78858393],\n",
       "       [ -70.32543825],\n",
       "       [-332.05180365],\n",
       "       [ 458.67336287],\n",
       "       [ 845.29007912],\n",
       "       [-388.14918147],\n",
       "       [-493.451189  ],\n",
       "       [ 488.26496758],\n",
       "       [-492.05107162],\n",
       "       [ 388.25645751],\n",
       "       [ -24.62122351],\n",
       "       [ 575.97264207],\n",
       "       [-196.96451137],\n",
       "       [-279.44677672],\n",
       "       [-704.70459206],\n",
       "       [-484.42295522],\n",
       "       [-600.43555596],\n",
       "       [-372.94582462],\n",
       "       [ 652.26705409],\n",
       "       [-862.6092797 ],\n",
       "       [-628.45464117],\n",
       "       [-285.09041576],\n",
       "       [-519.46165649],\n",
       "       [ 157.58534469],\n",
       "       [ 904.23573869],\n",
       "       [-407.29774709],\n",
       "       [-205.14924755],\n",
       "       [ -14.62852791],\n",
       "       [-335.1154603 ],\n",
       "       [-610.77303563],\n",
       "       [   7.0824894 ],\n",
       "       [-374.97826138],\n",
       "       [1343.44805535],\n",
       "       [-532.61235168],\n",
       "       [-616.47835675],\n",
       "       [ 821.47433526],\n",
       "       [-191.02140578],\n",
       "       [-537.93921898],\n",
       "       [-592.05906856],\n",
       "       [1188.97182207],\n",
       "       [1480.88369811],\n",
       "       [-298.86840342],\n",
       "       [-210.87033549],\n",
       "       [-129.58956706],\n",
       "       [-293.15558588],\n",
       "       [-590.46314891],\n",
       "       [ 432.95648633],\n",
       "       [2304.90306334],\n",
       "       [ 894.24218042],\n",
       "       [-497.03901339],\n",
       "       [-321.80741904],\n",
       "       [-672.28429631],\n",
       "       [1098.86247118],\n",
       "       [-266.74375536],\n",
       "       [-234.87228208],\n",
       "       [-416.42649818],\n",
       "       [-743.70205672],\n",
       "       [-470.63798097],\n",
       "       [2166.83214874],\n",
       "       [-556.54241538],\n",
       "       [1166.57581766],\n",
       "       [-118.15722757],\n",
       "       [ 509.53500231],\n",
       "       [-231.40944769],\n",
       "       [-228.07009647],\n",
       "       [-448.82396825],\n",
       "       [  51.28556161],\n",
       "       [-296.86458487],\n",
       "       [-183.02865993],\n",
       "       [-406.17418335],\n",
       "       [-421.78417987],\n",
       "       [ 404.76975783],\n",
       "       [-517.93197628],\n",
       "       [1616.61028278],\n",
       "       [ 124.63769062],\n",
       "       [-319.53301215],\n",
       "       [-236.10437715],\n",
       "       [1664.73663001],\n",
       "       [-473.08247336],\n",
       "       [-416.39454985],\n",
       "       [-327.06295095],\n",
       "       [   8.69950674],\n",
       "       [-562.0718621 ],\n",
       "       [ -96.15634338],\n",
       "       [ 446.23810649],\n",
       "       [ 929.32492522],\n",
       "       [-329.9856511 ],\n",
       "       [1376.74670463],\n",
       "       [-574.36448854],\n",
       "       [-471.49706627],\n",
       "       [-613.55604665],\n",
       "       [ 133.92665319],\n",
       "       [-211.10014032],\n",
       "       [ 385.76567882],\n",
       "       [ 170.8297046 ],\n",
       "       [-308.24359601],\n",
       "       [-272.34271133],\n",
       "       [-357.99888042],\n",
       "       [1603.09146187],\n",
       "       [  23.93595442],\n",
       "       [ 112.64536419],\n",
       "       [-194.93095578],\n",
       "       [ 945.84066796],\n",
       "       [-448.74597556],\n",
       "       [-298.45003763],\n",
       "       [1002.20068901],\n",
       "       [-227.36439226],\n",
       "       [-318.03138821],\n",
       "       [-634.713978  ],\n",
       "       [-409.75798897],\n",
       "       [-670.34409044],\n",
       "       [-116.23473566],\n",
       "       [-316.43228455],\n",
       "       [-379.44500389],\n",
       "       [-312.79756489],\n",
       "       [-333.38138758],\n",
       "       [-736.46602271],\n",
       "       [-168.51246896],\n",
       "       [-537.13114014],\n",
       "       [1838.85372237],\n",
       "       [-433.67730846],\n",
       "       [-334.42564422],\n",
       "       [-693.63907935],\n",
       "       [-109.9918762 ],\n",
       "       [-302.96992363],\n",
       "       [-622.06255981],\n",
       "       [ -70.31735952],\n",
       "       [-434.10141968],\n",
       "       [-207.47781259],\n",
       "       [-193.2275802 ],\n",
       "       [1418.85693891],\n",
       "       [-518.82269125],\n",
       "       [ 947.84284008],\n",
       "       [-433.28153168],\n",
       "       [-296.3640516 ],\n",
       "       [-170.16380777],\n",
       "       [-681.20478538],\n",
       "       [  84.57664405],\n",
       "       [ 433.42397313],\n",
       "       [-620.4778533 ],\n",
       "       [-109.40469905],\n",
       "       [ 995.61013855],\n",
       "       [-215.28007362],\n",
       "       [-133.99812702],\n",
       "       [-363.17724694],\n",
       "       [-496.07288076],\n",
       "       [-383.00355221],\n",
       "       [-524.30216983],\n",
       "       [ 857.36120343],\n",
       "       [-731.96936859],\n",
       "       [ -29.65027317],\n",
       "       [-389.02320299],\n",
       "       [-603.09614339],\n",
       "       [ 456.7153852 ],\n",
       "       [ 843.15747941],\n",
       "       [1101.74136409],\n",
       "       [-815.47289156],\n",
       "       [-418.69553636],\n",
       "       [-544.08329045],\n",
       "       [-405.83508327],\n",
       "       [ 525.30646048],\n",
       "       [1202.14548714],\n",
       "       [-340.87242577],\n",
       "       [-401.16336608],\n",
       "       [-259.70739883],\n",
       "       [-416.90824992],\n",
       "       [ -73.74926691],\n",
       "       [-490.99513128],\n",
       "       [  90.80732613],\n",
       "       [1062.45096993],\n",
       "       [-360.43207206],\n",
       "       [ -96.84996669],\n",
       "       [-184.49368274],\n",
       "       [-745.19680876],\n",
       "       [ 132.96631416],\n",
       "       [  51.47556978],\n",
       "       [-171.83598279],\n",
       "       [-401.45082819],\n",
       "       [-616.79508233],\n",
       "       [1268.52424098],\n",
       "       [1009.60415898],\n",
       "       [-395.30304548],\n",
       "       [ -95.38379395],\n",
       "       [-226.66795569],\n",
       "       [ 410.05168986],\n",
       "       [-389.78260618],\n",
       "       [ 453.27999581],\n",
       "       [ 804.67882288],\n",
       "       [-145.28685271],\n",
       "       [-425.61697103],\n",
       "       [-243.01375981],\n",
       "       [ -60.97238613],\n",
       "       [-582.06283548],\n",
       "       [ 677.25282904],\n",
       "       [-130.67775292],\n",
       "       [-618.24747009],\n",
       "       [ 523.68166772],\n",
       "       [-322.12867996],\n",
       "       [-313.32856833],\n",
       "       [  93.93616217],\n",
       "       [2362.96661962],\n",
       "       [-575.15822038],\n",
       "       [ -34.53645291],\n",
       "       [-604.73767217],\n",
       "       [1356.28835883],\n",
       "       [-151.60109072],\n",
       "       [-299.89106462],\n",
       "       [-386.0638548 ],\n",
       "       [ -81.89219474],\n",
       "       [-620.21932068],\n",
       "       [-263.32854839],\n",
       "       [-662.57321261],\n",
       "       [ 178.62727806],\n",
       "       [-490.76438701],\n",
       "       [1276.41983693],\n",
       "       [-415.31686907],\n",
       "       [1299.99283477],\n",
       "       [ 232.72508848],\n",
       "       [ 885.49572528],\n",
       "       [ 990.55822326],\n",
       "       [-393.63105586],\n",
       "       [-555.26697213],\n",
       "       [-236.729985  ],\n",
       "       [-552.89644748],\n",
       "       [-127.78695398],\n",
       "       [ 554.43806219],\n",
       "       [-200.87283306],\n",
       "       [-299.23867767],\n",
       "       [-289.48873213],\n",
       "       [-394.40673608],\n",
       "       [-415.40015048],\n",
       "       [  62.45672891],\n",
       "       [-333.62017019],\n",
       "       [-132.80703016],\n",
       "       [ 793.43023276],\n",
       "       [-447.07269419],\n",
       "       [-302.88067151],\n",
       "       [ 832.76638376],\n",
       "       [ 790.07205233],\n",
       "       [ 605.77783641],\n",
       "       [ 198.7647075 ],\n",
       "       [-220.35022746],\n",
       "       [-273.60938376],\n",
       "       [ 635.38529778],\n",
       "       [-629.59257277],\n",
       "       [-169.69905325],\n",
       "       [-611.39588378],\n",
       "       [ 236.49593743],\n",
       "       [ -38.86701855],\n",
       "       [-284.44854025],\n",
       "       [-445.35074274],\n",
       "       [-614.66230403],\n",
       "       [-436.14835977],\n",
       "       [-523.08910318],\n",
       "       [1083.35689415],\n",
       "       [1152.82595926],\n",
       "       [2721.33803323],\n",
       "       [-426.92249478],\n",
       "       [ 710.43757787],\n",
       "       [1222.3548979 ],\n",
       "       [ -13.90993256],\n",
       "       [-524.46298168],\n",
       "       [-441.01482842],\n",
       "       [-475.67629853],\n",
       "       [-325.84188243],\n",
       "       [-191.64334922],\n",
       "       [ 288.80471275],\n",
       "       [-570.83778744],\n",
       "       [-210.63010979],\n",
       "       [-564.09688293],\n",
       "       [ 204.281478  ],\n",
       "       [-585.53621919],\n",
       "       [ -70.60552552],\n",
       "       [-406.7522821 ],\n",
       "       [ 646.09680161],\n",
       "       [-167.84055521],\n",
       "       [ 974.03176392],\n",
       "       [-397.72758481],\n",
       "       [ 811.90271092],\n",
       "       [ 107.07904911],\n",
       "       [ -24.63269631],\n",
       "       [-349.05482317],\n",
       "       [-635.87108484],\n",
       "       [-462.68932446],\n",
       "       [-365.631023  ],\n",
       "       [1135.17012213],\n",
       "       [ 390.81050646],\n",
       "       [ 525.15225735],\n",
       "       [-436.25856143],\n",
       "       [-723.2527247 ],\n",
       "       [ 364.12986785],\n",
       "       [ 424.99542576],\n",
       "       [-337.67260251],\n",
       "       [ -63.43385675],\n",
       "       [ -64.59353766],\n",
       "       [-550.58501403],\n",
       "       [ -80.76182863],\n",
       "       [-187.25667548],\n",
       "       [-286.21359511],\n",
       "       [-461.67861315],\n",
       "       [-181.30716   ],\n",
       "       [-497.64517243],\n",
       "       [-429.93360721],\n",
       "       [  80.10776632],\n",
       "       [ -90.98021728],\n",
       "       [-493.59972039],\n",
       "       [-520.76021569],\n",
       "       [2126.46554776],\n",
       "       [ 740.40627444],\n",
       "       [-123.80759039],\n",
       "       [-610.84823711],\n",
       "       [-505.17000752],\n",
       "       [  64.73200611],\n",
       "       [-770.93748289],\n",
       "       [-220.55293124],\n",
       "       [-391.33837897],\n",
       "       [-430.10691682],\n",
       "       [1875.16826282],\n",
       "       [-389.76824305],\n",
       "       [  64.33875547],\n",
       "       [ -33.73951919],\n",
       "       [ 340.21216372],\n",
       "       [-383.78285459],\n",
       "       [1161.84256853],\n",
       "       [-339.92777872],\n",
       "       [ 460.84710467],\n",
       "       [-497.61197027],\n",
       "       [2407.3320564 ],\n",
       "       [3868.44800186],\n",
       "       [-392.82705587],\n",
       "       [-441.96884911],\n",
       "       [-146.95954934],\n",
       "       [-447.95327502],\n",
       "       [-465.85015921],\n",
       "       [-352.6895408 ],\n",
       "       [-327.1510338 ],\n",
       "       [-300.85833462],\n",
       "       [1586.0966847 ],\n",
       "       [1185.33618514],\n",
       "       [ 150.96322157],\n",
       "       [ 490.1118357 ],\n",
       "       [1061.8375134 ],\n",
       "       [-125.65182327],\n",
       "       [-379.97353141],\n",
       "       [ -59.25546704],\n",
       "       [-359.1398925 ],\n",
       "       [-470.26868604],\n",
       "       [-362.52511657],\n",
       "       [-646.67952263],\n",
       "       [1265.72533177],\n",
       "       [-324.29959046],\n",
       "       [ 412.7504802 ],\n",
       "       [-216.30010037],\n",
       "       [-225.8229114 ],\n",
       "       [ -47.32671454],\n",
       "       [-105.69554494],\n",
       "       [-277.61058831],\n",
       "       [2827.36724211],\n",
       "       [ 285.3289089 ],\n",
       "       [-166.49307207],\n",
       "       [-357.67948744],\n",
       "       [ 205.51315372],\n",
       "       [-378.50223186],\n",
       "       [-473.48553011],\n",
       "       [  -5.19552511],\n",
       "       [2076.41824876],\n",
       "       [ -25.13629429],\n",
       "       [ 495.45674826],\n",
       "       [ -44.47862342],\n",
       "       [  91.32923811],\n",
       "       [ 986.33782068],\n",
       "       [  73.26651497],\n",
       "       [-185.2675612 ],\n",
       "       [ 897.13399938],\n",
       "       [-505.72854591],\n",
       "       [ 551.83613105],\n",
       "       [-640.41926991],\n",
       "       [-405.12519876],\n",
       "       [ 575.89230279],\n",
       "       [-144.28519002],\n",
       "       [ -90.63486691],\n",
       "       [ 374.47638396],\n",
       "       [-485.94175049],\n",
       "       [-644.65306457],\n",
       "       [-468.36104808],\n",
       "       [-775.67234122],\n",
       "       [ 719.08510064],\n",
       "       [-276.38377859],\n",
       "       [-201.43247919],\n",
       "       [2588.6168508 ],\n",
       "       [-514.63205736],\n",
       "       [-189.14468705],\n",
       "       [ -42.68293411],\n",
       "       [ 178.14750867],\n",
       "       [ -53.1706573 ],\n",
       "       [ -41.15768142],\n",
       "       [-410.29975042],\n",
       "       [-367.51988242],\n",
       "       [ 829.60282644],\n",
       "       [-465.75934552],\n",
       "       [-563.67496383],\n",
       "       [ 854.75619157],\n",
       "       [-524.55806164],\n",
       "       [ -37.79410249],\n",
       "       [-774.73993985],\n",
       "       [-226.92647829],\n",
       "       [  38.08138979],\n",
       "       [1093.0107702 ],\n",
       "       [ 534.76142015],\n",
       "       [-237.88559696],\n",
       "       [-572.90538968],\n",
       "       [-685.29485882],\n",
       "       [-479.25296992]])"
      ]
     },
     "execution_count": 36,
     "metadata": {},
     "output_type": "execute_result"
    }
   ],
   "source": [
    "X3_train"
   ]
  },
  {
   "cell_type": "markdown",
   "metadata": {},
   "source": [
    "**Logistic Regression Classifier using PCA**"
   ]
  },
  {
   "cell_type": "code",
   "execution_count": 37,
   "metadata": {},
   "outputs": [
    {
     "data": {
      "text/plain": [
       "LogisticRegression(random_state=0)"
      ]
     },
     "execution_count": 37,
     "metadata": {},
     "output_type": "execute_result"
    }
   ],
   "source": [
    "logit3 = LogisticRegression(random_state = 0)\n",
    "logit3.fit(X3_train, y3_train)"
   ]
  },
  {
   "cell_type": "code",
   "execution_count": 38,
   "metadata": {},
   "outputs": [
    {
     "name": "stdout",
     "output_type": "stream",
     "text": [
      "0.9122807017543859\n"
     ]
    }
   ],
   "source": [
    "acl3=accuracy_score(y3_test,logit3.predict(X3_test))\n",
    "print(acl3)"
   ]
  },
  {
   "cell_type": "code",
   "execution_count": 39,
   "metadata": {},
   "outputs": [
    {
     "name": "stdout",
     "output_type": "stream",
     "text": [
      "[[64  3]\n",
      " [ 7 40]]\n"
     ]
    }
   ],
   "source": [
    "cml3= confusion_matrix(y3_test, logit3.predict(X3_test))\n",
    "print(cml3)"
   ]
  },
  {
   "cell_type": "markdown",
   "metadata": {},
   "source": [
    "**Decision Tree Classifier using PCA**"
   ]
  },
  {
   "cell_type": "code",
   "execution_count": 40,
   "metadata": {},
   "outputs": [
    {
     "data": {
      "text/plain": [
       "DecisionTreeClassifier(criterion='entropy', random_state=0)"
      ]
     },
     "execution_count": 40,
     "metadata": {},
     "output_type": "execute_result"
    }
   ],
   "source": [
    "dec3 = DecisionTreeClassifier(criterion = 'entropy', random_state = 0)\n",
    "dec3.fit(X3_train, y3_train)"
   ]
  },
  {
   "cell_type": "code",
   "execution_count": 41,
   "metadata": {},
   "outputs": [
    {
     "name": "stdout",
     "output_type": "stream",
     "text": [
      "0.8421052631578947\n"
     ]
    }
   ],
   "source": [
    "acd3=accuracy_score(y3_test,dec3.predict(X3_test))\n",
    "print(acd3)"
   ]
  },
  {
   "cell_type": "code",
   "execution_count": 42,
   "metadata": {},
   "outputs": [
    {
     "name": "stdout",
     "output_type": "stream",
     "text": [
      "[[56 11]\n",
      " [ 7 40]]\n"
     ]
    }
   ],
   "source": [
    "cmd3= confusion_matrix(y3_test, dec3.predict(X3_test))\n",
    "print(cmd3)"
   ]
  },
  {
   "cell_type": "code",
   "execution_count": 43,
   "metadata": {},
   "outputs": [
    {
     "data": {
      "text/plain": [
       "VotingClassifier(estimators=[('logit3', LogisticRegression(random_state=0)),\n",
       "                             ('dec3',\n",
       "                              DecisionTreeClassifier(criterion='entropy',\n",
       "                                                     random_state=0))])"
      ]
     },
     "execution_count": 43,
     "metadata": {},
     "output_type": "execute_result"
    }
   ],
   "source": [
    "#create a dictionary of our models\n",
    "estimators=[('logit3' ,logit3), ('dec3',dec3)]\n",
    "#create our voting classifier, inputting our models\n",
    "ensemble3 = VotingClassifier(estimators)\n",
    "#fit model to training data\n",
    "ensemble3.fit(X3_train, y3_train)"
   ]
  },
  {
   "cell_type": "code",
   "execution_count": 44,
   "metadata": {},
   "outputs": [
    {
     "data": {
      "text/plain": [
       "0.8859649122807017"
      ]
     },
     "execution_count": 44,
     "metadata": {},
     "output_type": "execute_result"
    }
   ],
   "source": [
    "ace3=accuracy_score(y3_test,ensemble3.predict(X3_test))\n",
    "ace3"
   ]
  },
  {
   "cell_type": "markdown",
   "metadata": {},
   "source": [
    "# **PCA on Standardized Data**"
   ]
  },
  {
   "cell_type": "markdown",
   "metadata": {},
   "source": [
    "PCA should always be run on Standardized data"
   ]
  },
  {
   "cell_type": "code",
   "execution_count": 45,
   "metadata": {},
   "outputs": [],
   "source": [
    "X4_train, X4_test, y4_train, y4_test = train_test_split(X, y, test_size = 0.2, random_state = 0)\n",
    "y4_train=y4_train.ravel(order='F')\n",
    "sc = StandardScaler()\n",
    "X4_train = sc.fit_transform(X4_train)\n",
    "X4_test = sc.transform(X4_test)"
   ]
  },
  {
   "cell_type": "code",
   "execution_count": 46,
   "metadata": {},
   "outputs": [
    {
     "data": {
      "text/plain": [
       "array([[-1.15036482, -0.39064196, -1.12855021, ..., -0.75798367,\n",
       "        -0.01614761, -0.38503402],\n",
       "       [-0.93798972,  0.68051405, -0.94820146, ..., -0.60687023,\n",
       "         0.09669004, -0.38615797],\n",
       "       [ 0.574121  , -1.03333557,  0.51394098, ..., -0.02371948,\n",
       "        -0.20050207, -0.75144254],\n",
       "       ...,\n",
       "       [-1.32422924, -0.20048168, -1.31754581, ..., -0.97974953,\n",
       "        -0.71542314, -0.11978123],\n",
       "       [-1.24380987, -0.2245526 , -1.28007609, ..., -1.75401433,\n",
       "        -1.58157125, -1.00601779],\n",
       "       [-0.73694129,  1.14989702, -0.71226578, ..., -0.27460457,\n",
       "        -1.25895095,  0.21515662]])"
      ]
     },
     "execution_count": 46,
     "metadata": {},
     "output_type": "execute_result"
    }
   ],
   "source": [
    "X4_train"
   ]
  },
  {
   "cell_type": "code",
   "execution_count": 47,
   "metadata": {},
   "outputs": [
    {
     "name": "stdout",
     "output_type": "stream",
     "text": [
      "[4.34307675e-01 1.97401146e-01 9.35177070e-02 6.67766058e-02\n",
      " 5.64245165e-02 4.07161938e-02 2.14925398e-02 1.51269268e-02\n",
      " 1.39676264e-02 1.16009156e-02 1.01216224e-02 8.97175303e-03\n",
      " 7.71439121e-03 5.55309643e-03 3.11522438e-03 2.64580181e-03\n",
      " 1.99647487e-03 1.70618303e-03 1.50414589e-03 1.06143766e-03\n",
      " 9.94608221e-04 8.78454935e-04 7.24281209e-04 5.81085817e-04\n",
      " 5.46645369e-04 2.61499457e-04 2.16152203e-04 4.62504070e-05\n",
      " 2.53207432e-05 3.71910834e-06]\n"
     ]
    }
   ],
   "source": [
    "pca = PCA()\n",
    "X4_train = pca.fit_transform(X4_train)\n",
    "X4_test = pca.transform(X4_test)\n",
    "explained_variance = pca.explained_variance_ratio_\n",
    "print(explained_variance)"
   ]
  },
  {
   "cell_type": "code",
   "execution_count": 48,
   "metadata": {},
   "outputs": [
    {
     "data": {
      "image/png": "[encoded data removed]",
      "text/plain": [
       "<Figure size 432x288 with 1 Axes>"
      ]
     },
     "metadata": {
      "needs_background": "light"
     },
     "output_type": "display_data"
    }
   ],
   "source": [
    "plt.scatter(range(1,31),explained_variance)\n",
    "plt.plot(range(1,31),explained_variance)\n",
    "plt.title('Scree Plot')\n",
    "plt.xlabel('Principal Component')\n",
    "plt.ylabel('Percentate of Variance Explained')\n",
    "plt.grid()\n",
    "plt.show()"
   ]
  },
  {
   "cell_type": "code",
   "execution_count": null,
   "metadata": {},
   "outputs": [],
   "source": []
  },
  {
   "cell_type": "markdown",
   "metadata": {},
   "source": [
    "Scree Plot tell the explains the percentage of Variance when we apply PCA.\n",
    "Here above the data is  standardized, the scree plot is showing the PCA vs percentage of variance.THe char is showing from 1, 2 to 6 we get the components are  explaining  the data set or is having the better variance, then rest of the variables"
   ]
  },
  {
   "cell_type": "code",
   "execution_count": null,
   "metadata": {},
   "outputs": [],
   "source": []
  },
  {
   "cell_type": "code",
   "execution_count": 49,
   "metadata": {},
   "outputs": [],
   "source": [
    "X4_train, X4_test, y4_train, y4_test = train_test_split(X, y, test_size = 0.2, random_state = 0)\n",
    "y4_train=y4_train.ravel(order='F')\n",
    "sc = StandardScaler()\n",
    "X4_train = sc.fit_transform(X4_train)\n",
    "X4_test = sc.transform(X4_test)"
   ]
  },
  {
   "cell_type": "markdown",
   "metadata": {},
   "source": [
    "Based on the scree plot we are chosing components =6"
   ]
  },
  {
   "cell_type": "code",
   "execution_count": 50,
   "metadata": {},
   "outputs": [],
   "source": [
    "pca = PCA(n_components=6)\n",
    "X4_train = pca.fit_transform(X4_train)\n",
    "X4_test = pca.transform(X4_test)\n",
    "explained_variance = pca.explained_variance_ratio_"
   ]
  },
  {
   "cell_type": "markdown",
   "metadata": {},
   "source": [
    "**Logistic Regression Classifier using PCA**"
   ]
  },
  {
   "cell_type": "code",
   "execution_count": 51,
   "metadata": {},
   "outputs": [
    {
     "data": {
      "text/plain": [
       "LogisticRegression(random_state=0)"
      ]
     },
     "execution_count": 51,
     "metadata": {},
     "output_type": "execute_result"
    }
   ],
   "source": [
    "logit4 = LogisticRegression(random_state = 0)\n",
    "logit4.fit(X4_train, y4_train)"
   ]
  },
  {
   "cell_type": "code",
   "execution_count": 52,
   "metadata": {},
   "outputs": [
    {
     "name": "stdout",
     "output_type": "stream",
     "text": [
      "0.956140350877193\n"
     ]
    }
   ],
   "source": [
    "acl4=accuracy_score(y4_test,logit4.predict(X4_test))\n",
    "print(acl4)"
   ]
  },
  {
   "cell_type": "code",
   "execution_count": 53,
   "metadata": {},
   "outputs": [
    {
     "name": "stdout",
     "output_type": "stream",
     "text": [
      "[[65  2]\n",
      " [ 3 44]]\n"
     ]
    }
   ],
   "source": [
    "cml4= confusion_matrix(y4_test, logit4.predict(X4_test))\n",
    "print(cml4)"
   ]
  },
  {
   "cell_type": "markdown",
   "metadata": {},
   "source": [
    "**Decision Tree Classifier using PCA**"
   ]
  },
  {
   "cell_type": "code",
   "execution_count": 54,
   "metadata": {},
   "outputs": [
    {
     "data": {
      "text/plain": [
       "DecisionTreeClassifier(criterion='entropy', random_state=0)"
      ]
     },
     "execution_count": 54,
     "metadata": {},
     "output_type": "execute_result"
    }
   ],
   "source": [
    "dec4 = DecisionTreeClassifier(criterion = 'entropy', random_state = 0)\n",
    "dec4.fit(X4_train, y4_train)"
   ]
  },
  {
   "cell_type": "code",
   "execution_count": 55,
   "metadata": {},
   "outputs": [
    {
     "name": "stdout",
     "output_type": "stream",
     "text": [
      "0.9298245614035088\n"
     ]
    }
   ],
   "source": [
    "acd4=accuracy_score(y4_test,dec4.predict(X4_test))\n",
    "print(acd4)"
   ]
  },
  {
   "cell_type": "code",
   "execution_count": 56,
   "metadata": {},
   "outputs": [
    {
     "name": "stdout",
     "output_type": "stream",
     "text": [
      "[[61  6]\n",
      " [ 2 45]]\n"
     ]
    }
   ],
   "source": [
    "cmd4= confusion_matrix(y4_test, dec4.predict(X4_test))\n",
    "print(cmd4)"
   ]
  },
  {
   "cell_type": "code",
   "execution_count": 57,
   "metadata": {},
   "outputs": [
    {
     "data": {
      "text/plain": [
       "VotingClassifier(estimators=[('logit4', LogisticRegression(random_state=0)),\n",
       "                             ('dec4',\n",
       "                              DecisionTreeClassifier(criterion='entropy',\n",
       "                                                     random_state=0))])"
      ]
     },
     "execution_count": 57,
     "metadata": {},
     "output_type": "execute_result"
    }
   ],
   "source": [
    "#create a dictionary of our models\n",
    "estimators=[('logit4', logit4), ('dec4', dec4)]\n",
    "#create our voting classifier, inputting our models\n",
    "ensemble4 = VotingClassifier(estimators)\n",
    "#VotingClassifier(\n",
    "\n",
    "#fit model to training data\n",
    "ensemble4.fit(X4_train, y4_train)"
   ]
  },
  {
   "cell_type": "code",
   "execution_count": 58,
   "metadata": {},
   "outputs": [
    {
     "name": "stdout",
     "output_type": "stream",
     "text": [
      "0.956140350877193\n"
     ]
    }
   ],
   "source": [
    "ace4=accuracy_score(y4_test,ensemble4.predict(X4_test))\n",
    "print(ace4)"
   ]
  },
  {
   "cell_type": "code",
   "execution_count": 59,
   "metadata": {},
   "outputs": [],
   "source": [
    "data= {'Non standardized' :  [acl1  , acd1, ace1],\n",
    "       'Standardized': [acl2,  acd2, ace2],\n",
    "       'Non Standardized PCA' : [acl3,   acd3, ace3],\n",
    "       'Standardized PCA' : [acl4,  acd4, ace4]}"
   ]
  },
  {
   "cell_type": "code",
   "execution_count": 60,
   "metadata": {},
   "outputs": [],
   "source": [
    "models=['logistc Regression',  'Decision Tree', 'Ensemble Model']"
   ]
  },
  {
   "cell_type": "code",
   "execution_count": 61,
   "metadata": {},
   "outputs": [],
   "source": [
    "Result=pd.DataFrame(data, index= models)"
   ]
  },
  {
   "cell_type": "code",
   "execution_count": 62,
   "metadata": {
    "scrolled": true
   },
   "outputs": [
    {
     "data": {
      "text/html": [
       "<div>\n",
       "<style scoped>\n",
       "    .dataframe tbody tr th:only-of-type {\n",
       "        vertical-align: middle;\n",
       "    }\n",
       "\n",
       "    .dataframe tbody tr th {\n",
       "        vertical-align: top;\n",
       "    }\n",
       "\n",
       "    .dataframe thead th {\n",
       "        text-align: right;\n",
       "    }\n",
       "</style>\n",
       "<table border=\"1\" class=\"dataframe\">\n",
       "  <thead>\n",
       "    <tr style=\"text-align: right;\">\n",
       "      <th></th>\n",
       "      <th>Non standardized</th>\n",
       "      <th>Standardized</th>\n",
       "      <th>Non Standardized PCA</th>\n",
       "      <th>Standardized PCA</th>\n",
       "    </tr>\n",
       "  </thead>\n",
       "  <tbody>\n",
       "    <tr>\n",
       "      <th>logistc Regression</th>\n",
       "      <td>0.947368</td>\n",
       "      <td>0.964912</td>\n",
       "      <td>0.912281</td>\n",
       "      <td>0.956140</td>\n",
       "    </tr>\n",
       "    <tr>\n",
       "      <th>Decision Tree</th>\n",
       "      <td>0.929825</td>\n",
       "      <td>0.929825</td>\n",
       "      <td>0.842105</td>\n",
       "      <td>0.929825</td>\n",
       "    </tr>\n",
       "    <tr>\n",
       "      <th>Ensemble Model</th>\n",
       "      <td>0.938596</td>\n",
       "      <td>0.947368</td>\n",
       "      <td>0.885965</td>\n",
       "      <td>0.956140</td>\n",
       "    </tr>\n",
       "  </tbody>\n",
       "</table>\n",
       "</div>"
      ],
      "text/plain": [
       "                    Non standardized  Standardized  Non Standardized PCA  \\\n",
       "logistc Regression          0.947368      0.964912              0.912281   \n",
       "Decision Tree               0.929825      0.929825              0.842105   \n",
       "Ensemble Model              0.938596      0.947368              0.885965   \n",
       "\n",
       "                    Standardized PCA  \n",
       "logistc Regression          0.956140  \n",
       "Decision Tree               0.929825  \n",
       "Ensemble Model              0.956140  "
      ]
     },
     "execution_count": 62,
     "metadata": {},
     "output_type": "execute_result"
    }
   ],
   "source": [
    "Result"
   ]
  }
 ],
 "metadata": {
  "kernelspec": {
   "display_name": "Python 3",
   "language": "python",
   "name": "python3"
  },
  "language_info": {
   "codemirror_mode": {
    "name": "ipython",
    "version": 3
   },
   "file_extension": ".py",
   "mimetype": "text/x-python",
   "name": "python",
   "nbconvert_exporter": "python",
   "pygments_lexer": "ipython3",
   "version": "3.8.8"
  }
 },
 "nbformat": 4,
 "nbformat_minor": 4
}
