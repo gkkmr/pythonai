{
 "cells": [
  {
   "cell_type": "code",
   "execution_count": 1,
   "metadata": {},
   "outputs": [],
   "source": [
    "import pprint\n",
    "import numpy as np \n",
    "import matplotlib.pyplot as plt\n",
    "%matplotlib inline"
   ]
  },
  {
   "cell_type": "code",
   "execution_count": 3,
   "metadata": {},
   "outputs": [],
   "source": [
    "import tensorflow as tf\n",
    "import keras as ke"
   ]
  },
  {
   "cell_type": "code",
   "execution_count": 2,
   "metadata": {},
   "outputs": [
    {
     "ename": "SyntaxError",
     "evalue": "invalid syntax (<ipython-input-2-152b50a4a1ee>, line 1)",
     "output_type": "error",
     "traceback": [
      "\u001b[1;36m  File \u001b[1;32m\"<ipython-input-2-152b50a4a1ee>\"\u001b[1;36m, line \u001b[1;32m1\u001b[0m\n\u001b[1;33m    tf.\u001b[0m\n\u001b[1;37m       ^\u001b[0m\n\u001b[1;31mSyntaxError\u001b[0m\u001b[1;31m:\u001b[0m invalid syntax\n"
     ]
    }
   ],
   "source": []
  },
  {
   "cell_type": "markdown",
   "metadata": {},
   "source": [
    "### How to impelment a Neural Network from scratch "
   ]
  },
  {
   "cell_type": "raw",
   "metadata": {},
   "source": [
    "Lets assume that we have a linear equation - \n",
    "y = 7*x1 + 3*x2"
   ]
  },
  {
   "cell_type": "raw",
   "metadata": {},
   "source": [
    "Assume that the 7 and 3 are the most optimized weights of the equation"
   ]
  },
  {
   "cell_type": "raw",
   "metadata": {},
   "source": [
    "Every ML study has 2 phases - \n",
    "1. Training Phase - We will provide both input and output, and we get a equation \n",
    "\n",
    "2. Testing phase - we will only provide the input to `based on the equation formed from weights and bias\n",
    "and get the output. "
   ]
  },
  {
   "cell_type": "code",
   "execution_count": null,
   "metadata": {},
   "outputs": [],
   "source": []
  },
  {
   "cell_type": "raw",
   "metadata": {},
   "source": [
    "Equation can be written for model as - \n",
    "y = x1w1 + x2w2\n",
    "23 = 2*w1 + 3*w2"
   ]
  },
  {
   "cell_type": "code",
   "execution_count": null,
   "metadata": {},
   "outputs": [],
   "source": []
  },
  {
   "cell_type": "code",
   "execution_count": null,
   "metadata": {},
   "outputs": [],
   "source": []
  },
  {
   "cell_type": "markdown",
   "metadata": {},
   "source": [
    "### Apply ML  "
   ]
  },
  {
   "cell_type": "code",
   "execution_count": 2,
   "metadata": {},
   "outputs": [],
   "source": [
    "# -- Equation -- \n",
    "#y = 7*x1 + 3*x2\n",
    "#-- INPUT --- \n",
    "x1 = 2\n",
    "x2 = 3\n",
    "# -- OUTPUT ---\n",
    "y =  23"
   ]
  },
  {
   "cell_type": "code",
   "execution_count": 3,
   "metadata": {},
   "outputs": [
    {
     "name": "stdout",
     "output_type": "stream",
     "text": [
      "Final Value of y_pred is  -  23.007582592729825\n"
     ]
    }
   ],
   "source": [
    "x1 = 2\n",
    "x2 = 3\n",
    "y = 23\n",
    "# ------------------------\n",
    "# --- Random Variables --- \n",
    "w1 = 20 \n",
    "w2 = 10\n",
    "lr = 0.01\n",
    "epochs = 30\n",
    "# --------------------\n",
    "# --- Empty List to store -- \n",
    "w1_list = []\n",
    "w2_list = []\n",
    "y_pred_list = []\n",
    "error_list = []\n",
    "# -----------------------\n",
    "for e in range(epochs):\n",
    "    # Feed forward neural network\n",
    "    y_pred = x1*w1 + x2*w2\n",
    "    \n",
    "    # Error \n",
    "    # Explain funda of Squared Error - \n",
    "    # Square of 0.1 will become 0.01\n",
    "    error = (y - y_pred)**2\n",
    "    #error = (y - x1*w1 - xw*w2)**2\n",
    "    \n",
    "    # Gradeint Descent \n",
    "    dEdw1 = 2*(y - y_pred)*(-x1) \n",
    "    dEdw2 = 2*(y - y_pred)*(-x2)\n",
    "    \n",
    "    # Back Propogation\n",
    "    w1 = w1 - lr*(dEdw1)\n",
    "    w2 = w2 - lr*(dEdw2)\n",
    "    \n",
    "    # Data Collection\n",
    "    w1_list.append(w1)\n",
    "    w2_list.append(w2)\n",
    "    y_pred_list.append(y_pred)\n",
    "    error_list.append(error)\n",
    "    #print(f\"Value of w1 is {w1} and w2 is {w2}\")\n",
    "print(\"Final Value of y_pred is  - \", y_pred)"
   ]
  },
  {
   "cell_type": "code",
   "execution_count": 4,
   "metadata": {},
   "outputs": [
    {
     "data": {
      "image/png": "[encoded data removed]",
      "text/plain": [
       "<Figure size 720x432 with 1 Axes>"
      ]
     },
     "metadata": {
      "needs_background": "light"
     },
     "output_type": "display_data"
    }
   ],
   "source": [
    "plt.figure(figsize=(10, 6))\n",
    "# plt.plot(y_pred_list, label=\"y_predicted\")\n",
    "# plt.plot(w1_list, label=\"w1_list\")\n",
    "# plt.plot(w2_list, label=\"w2_list\")\n",
    "plt.plot(error_list, label=\"Error\")\n",
    "plt.plot(np.array([23]*epochs), '--')\n",
    "plt.xlabel(\"Number of Epochs\")\n",
    "plt.ylabel(\"Index\")\n",
    "plt.legend()\n",
    "plt.show()"
   ]
  },
  {
   "cell_type": "code",
   "execution_count": 5,
   "metadata": {},
   "outputs": [
    {
     "data": {
      "text/plain": [
       "(2, 3, 23)"
      ]
     },
     "execution_count": 5,
     "metadata": {},
     "output_type": "execute_result"
    }
   ],
   "source": [
    "x1, x2, y"
   ]
  },
  {
   "cell_type": "code",
   "execution_count": 6,
   "metadata": {},
   "outputs": [
    {
     "data": {
      "text/plain": [
       "23.00561111862007"
      ]
     },
     "execution_count": 6,
     "metadata": {},
     "output_type": "execute_result"
    }
   ],
   "source": [
    "x1 * w1 + x2 * w2"
   ]
  },
  {
   "cell_type": "markdown",
   "metadata": {},
   "source": [
    "### Multi Variable Equations "
   ]
  },
  {
   "cell_type": "code",
   "execution_count": 7,
   "metadata": {},
   "outputs": [],
   "source": [
    "#y = 7*x1 + 5*x2 + 4*x3"
   ]
  },
  {
   "cell_type": "code",
   "execution_count": 8,
   "metadata": {},
   "outputs": [],
   "source": [
    "x1 = np.random.randint(3, 10, 10)\n",
    "x2 = np.random.randint(3, 10, 10)\n",
    "x3 = np.random.randint(3, 10, 10)"
   ]
  },
  {
   "cell_type": "code",
   "execution_count": 9,
   "metadata": {},
   "outputs": [
    {
     "data": {
      "text/plain": [
       "(array([3, 5, 3, 4, 5, 6, 8, 3, 4, 6]),\n",
       " array([5, 7, 7, 9, 6, 3, 5, 3, 6, 3]),\n",
       " array([6, 4, 5, 5, 4, 4, 4, 9, 6, 8]))"
      ]
     },
     "execution_count": 9,
     "metadata": {},
     "output_type": "execute_result"
    }
   ],
   "source": [
    "x1, x2, x3"
   ]
  },
  {
   "cell_type": "code",
   "execution_count": 10,
   "metadata": {},
   "outputs": [
    {
     "data": {
      "text/plain": [
       "10"
      ]
     },
     "execution_count": 10,
     "metadata": {},
     "output_type": "execute_result"
    }
   ],
   "source": [
    "SHAPE = x1.shape[0]\n",
    "SHAPE"
   ]
  },
  {
   "cell_type": "code",
   "execution_count": 11,
   "metadata": {},
   "outputs": [
    {
     "data": {
      "text/plain": [
       "array([70, 86, 76, 93, 81, 73, 97, 72, 82, 89])"
      ]
     },
     "execution_count": 11,
     "metadata": {},
     "output_type": "execute_result"
    }
   ],
   "source": [
    "y = 7*x1 + 5*x2 + 4 *x3\n",
    "y"
   ]
  },
  {
   "cell_type": "code",
   "execution_count": 12,
   "metadata": {},
   "outputs": [
    {
     "data": {
      "text/plain": [
       "array([[3, 5, 3, 4, 5, 6, 8, 3, 4, 6],\n",
       "       [5, 7, 7, 9, 6, 3, 5, 3, 6, 3],\n",
       "       [6, 4, 5, 5, 4, 4, 4, 9, 6, 8]])"
      ]
     },
     "execution_count": 12,
     "metadata": {},
     "output_type": "execute_result"
    }
   ],
   "source": [
    "X = np.array([x1, x2, x3])\n",
    "X"
   ]
  },
  {
   "cell_type": "code",
   "execution_count": 13,
   "metadata": {},
   "outputs": [
    {
     "data": {
      "text/plain": [
       "array([[3, 5, 6],\n",
       "       [5, 7, 4],\n",
       "       [3, 7, 5],\n",
       "       [4, 9, 5],\n",
       "       [5, 6, 4],\n",
       "       [6, 3, 4],\n",
       "       [8, 5, 4],\n",
       "       [3, 3, 9],\n",
       "       [4, 6, 6],\n",
       "       [6, 3, 8]])"
      ]
     },
     "execution_count": 13,
     "metadata": {},
     "output_type": "execute_result"
    }
   ],
   "source": [
    "X = X.T\n",
    "X"
   ]
  },
  {
   "cell_type": "code",
   "execution_count": 14,
   "metadata": {},
   "outputs": [
    {
     "data": {
      "text/plain": [
       "(10, 1)"
      ]
     },
     "execution_count": 14,
     "metadata": {},
     "output_type": "execute_result"
    }
   ],
   "source": [
    "y.shape\n",
    "y = y.reshape((10, 1))\n",
    "y.shape"
   ]
  },
  {
   "cell_type": "code",
   "execution_count": 15,
   "metadata": {},
   "outputs": [
    {
     "data": {
      "text/plain": [
       "array([[70],\n",
       "       [86],\n",
       "       [76],\n",
       "       [93],\n",
       "       [81],\n",
       "       [73],\n",
       "       [97],\n",
       "       [72],\n",
       "       [82],\n",
       "       [89]])"
      ]
     },
     "execution_count": 15,
     "metadata": {},
     "output_type": "execute_result"
    }
   ],
   "source": [
    "y"
   ]
  },
  {
   "cell_type": "code",
   "execution_count": 16,
   "metadata": {},
   "outputs": [],
   "source": [
    "# How to access weights indivisually \n",
    "#w[0][0], w[1][0], w[2][0]"
   ]
  },
  {
   "cell_type": "code",
   "execution_count": 17,
   "metadata": {},
   "outputs": [
    {
     "data": {
      "text/plain": [
       "(array([3, 5, 3, 4, 5, 6, 8, 3, 4, 6]), array([5, 7, 7, 9, 6, 3, 5, 3, 6, 3]))"
      ]
     },
     "execution_count": 17,
     "metadata": {},
     "output_type": "execute_result"
    }
   ],
   "source": [
    "# How to access X indivisually\n",
    "X[:, 0], X[:, 1]"
   ]
  },
  {
   "cell_type": "markdown",
   "metadata": {},
   "source": [
    "### Apply ML \n"
   ]
  },
  {
   "cell_type": "code",
   "execution_count": 18,
   "metadata": {},
   "outputs": [
    {
     "name": "stdout",
     "output_type": "stream",
     "text": [
      "array([[ 0.20944663],\n",
      "       [49.        ],\n",
      "       [ 0.82212865]])\n",
      "Value of w1 is 6.407587731623181, w2 is 5.423716587038973, w3 is 4.084533036459646\n",
      "Value of y_pred is\n",
      "array([[70.85376015],\n",
      "       [86.34608792],\n",
      "       [77.62349683],\n",
      "       [94.88135883],\n",
      "       [80.91894299],\n",
      "       [71.04108032],\n",
      "       [94.70251446],\n",
      "       [72.25312982],\n",
      "       [82.68447721],\n",
      "       [87.37929305]])\n"
     ]
    }
   ],
   "source": [
    "#  -- Random Variable -----\n",
    "lr = 0.0001\n",
    "w = np.array([\n",
    "    np.random.rand(1),\n",
    "    np.random.randint(1, 50, 1),\n",
    "    np.random.rand(1)\n",
    "])\n",
    "pprint.pprint(w)\n",
    "epochs = 500\n",
    "# -----------------------\n",
    "# Empty List \n",
    "error_list = []\n",
    "y_pred_list = []\n",
    "w1_list = []\n",
    "w2_list = []\n",
    "w3_list = []\n",
    "# ------------------------\n",
    "for e in range(epochs):\n",
    "    # Feed Forward \n",
    "    y_pred = np.matmul(X, w)\n",
    "    ## You can use activation function here -- \n",
    "    \n",
    "    # Error - \n",
    "    error = (y - y_pred)**2\n",
    "    \n",
    "    # Gradient Descent\n",
    "    # From the simple equ - dEdw1 = 2*(y - y_pred)*(-x1)\n",
    "    dEdw1 = 2*np.matmul((y-y_pred).T, (-X[:, 0].reshape(SHAPE, 1)))\n",
    "    dEdw2 = 2*np.matmul((y-y_pred).T, (-X[:, 1].reshape(SHAPE, 1)))\n",
    "    dEdw3 = 2*np.matmul((y-y_pred).T, (-X[:, 2].reshape(SHAPE, 1)))\n",
    "    \n",
    "    w[0][0] = w[0][0] - lr*dEdw1\n",
    "    w[1][0] = w[1][0] - lr*dEdw2\n",
    "    w[2][0] = w[2][0] - lr*dEdw3\n",
    "               \n",
    "    # Data Collection\n",
    "    error_list.append(error)\n",
    "    y_pred_list.append(y_pred)\n",
    "    w1_list.append(w[0][0])\n",
    "    w2_list.append(w[1][0])\n",
    "    w3_list.append(w[2][0])\n",
    "    \n",
    "    # Drop out or \n",
    "    # batch normalization\n",
    "    \n",
    "    \n",
    "print(f\"Value of w1 is {w[0][0]}, w2 is {w[1][0]}, w3 is {w[2][0]}\")\n",
    "print(f\"Value of y_pred is\")\n",
    "pprint.pprint(y_pred)"
   ]
  },
  {
   "cell_type": "code",
   "execution_count": 19,
   "metadata": {},
   "outputs": [
    {
     "data": {
      "text/plain": [
       "array([[70.        , 86.        , 76.        , 93.        , 81.        ,\n",
       "        73.        , 97.        , 72.        , 82.        , 89.        ],\n",
       "       [70.85376015, 86.34608792, 77.62349683, 94.88135883, 80.91894299,\n",
       "        71.04108032, 94.70251446, 72.25312982, 82.68447721, 87.37929305]])"
      ]
     },
     "execution_count": 19,
     "metadata": {},
     "output_type": "execute_result"
    }
   ],
   "source": [
    "np.array([y.reshape(10,), y_pred.reshape(10,)])"
   ]
  },
  {
   "cell_type": "code",
   "execution_count": 20,
   "metadata": {},
   "outputs": [],
   "source": [
    "error_list_ = [sum(error**2) for error in error_list]"
   ]
  },
  {
   "cell_type": "code",
   "execution_count": 21,
   "metadata": {},
   "outputs": [
    {
     "data": {
      "text/plain": [
       "array([69.7313873])"
      ]
     },
     "execution_count": 21,
     "metadata": {},
     "output_type": "execute_result"
    }
   ],
   "source": [
    "error_list_[-1]"
   ]
  },
  {
   "cell_type": "code",
   "execution_count": 22,
   "metadata": {},
   "outputs": [
    {
     "data": {
      "text/plain": [
       "[<matplotlib.lines.Line2D at 0x1d826beefd0>]"
      ]
     },
     "execution_count": 22,
     "metadata": {},
     "output_type": "execute_result"
    },
    {
     "data": {
      "image/png": "[encoded data removed]",
      "text/plain": [
       "<Figure size 432x288 with 1 Axes>"
      ]
     },
     "metadata": {
      "needs_background": "light"
     },
     "output_type": "display_data"
    }
   ],
   "source": [
    "plt.plot(error_list_)"
   ]
  },
  {
   "cell_type": "code",
   "execution_count": null,
   "metadata": {},
   "outputs": [],
   "source": []
  },
  {
   "cell_type": "code",
   "execution_count": 23,
   "metadata": {},
   "outputs": [
    {
     "data": {
      "text/plain": [
       "array([[6.40758773],\n",
       "       [5.42371659],\n",
       "       [4.08453304]])"
      ]
     },
     "execution_count": 23,
     "metadata": {},
     "output_type": "execute_result"
    }
   ],
   "source": [
    "w"
   ]
  },
  {
   "cell_type": "code",
   "execution_count": 24,
   "metadata": {},
   "outputs": [
    {
     "data": {
      "text/plain": [
       "32"
      ]
     },
     "execution_count": 24,
     "metadata": {},
     "output_type": "execute_result"
    }
   ],
   "source": [
    "x1 = 2\n",
    "x2 = 2\n",
    "x3 = 2\n",
    "y_ = 7*x1 + 5*x2 + 4*x3 \n",
    "y_"
   ]
  },
  {
   "cell_type": "code",
   "execution_count": 25,
   "metadata": {},
   "outputs": [
    {
     "name": "stdout",
     "output_type": "stream",
     "text": [
      "6.407587731623181 5.423716587038973 4.084533036459646\n"
     ]
    },
    {
     "data": {
      "text/plain": [
       "31.8316747102436"
      ]
     },
     "execution_count": 25,
     "metadata": {},
     "output_type": "execute_result"
    }
   ],
   "source": [
    "print(w[0][0],w[1][0],w[2][0])\n",
    "x1*w[0][0] + x2*w[1][0] + x3*w[2][0]"
   ]
  },
  {
   "cell_type": "code",
   "execution_count": 26,
   "metadata": {},
   "outputs": [
    {
     "data": {
      "text/plain": [
       "[<matplotlib.lines.Line2D at 0x1d826c55190>]"
      ]
     },
     "execution_count": 26,
     "metadata": {},
     "output_type": "execute_result"
    },
    {
     "data": {
      "image/png": "[encoded data removed]",
      "text/plain": [
       "<Figure size 432x288 with 1 Axes>"
      ]
     },
     "metadata": {
      "needs_background": "light"
     },
     "output_type": "display_data"
    }
   ],
   "source": [
    "plt.plot(w1_list, label=\"W1\")\n",
    "plt.plot(w2_list, label=\"W2\")\n",
    "plt.plot(w3_list, label=\"W3\")"
   ]
  },
  {
   "cell_type": "code",
   "execution_count": 27,
   "metadata": {},
   "outputs": [
    {
     "data": {
      "text/plain": [
       "750000"
      ]
     },
     "execution_count": 27,
     "metadata": {},
     "output_type": "execute_result"
    }
   ],
   "source": [
    "500 * 500 * 3"
   ]
  }
 ],
 "metadata": {
  "kernelspec": {
   "display_name": "Python 3",
   "language": "python",
   "name": "python3"
  },
  "language_info": {
   "codemirror_mode": {
    "name": "ipython",
    "version": 3
   },
   "file_extension": ".py",
   "mimetype": "text/x-python",
   "name": "python",
   "nbconvert_exporter": "python",
   "pygments_lexer": "ipython3",
   "version": "3.8.8"
  }
 },
 "nbformat": 4,
 "nbformat_minor": 2
}
